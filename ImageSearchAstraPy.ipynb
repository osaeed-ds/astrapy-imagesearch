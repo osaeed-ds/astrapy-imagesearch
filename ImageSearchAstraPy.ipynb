{
  "nbformat": 4,
  "nbformat_minor": 0,
  "metadata": {
    "colab": {
      "provenance": [],
      "authorship_tag": "ABX9TyOqpMCboUm5uiK4CEykTE4A",
      "include_colab_link": true
    },
    "kernelspec": {
      "name": "python3",
      "display_name": "Python 3"
    },
    "language_info": {
      "name": "python"
    }
  },
  "cells": [
    {
      "cell_type": "markdown",
      "metadata": {
        "id": "view-in-github",
        "colab_type": "text"
      },
      "source": [
        "<a href=\"https://colab.research.google.com/github/osaeed-ds/astrapy-imagesearch/blob/main/ImageSearchAstraPy.ipynb\" target=\"_parent\"><img src=\"https://colab.research.google.com/assets/colab-badge.svg\" alt=\"Open In Colab\"/></a>"
      ]
    },
    {
      "cell_type": "markdown",
      "source": [
        "## **Introduction**\n",
        "\n",
        "In this exercise we are going to adapt a notebook that connected to AstraDB via CassIO to instead use the AstraPy / document API.\n",
        "\n",
        "This notebook adapts the Multimodal Image Search demo by Mukundha\n",
        "https://github.com/mukundha/multi-modal-vector-retrieval-astra\n"
      ],
      "metadata": {
        "id": "pUWK4SeAjb0G"
      }
    },
    {
      "cell_type": "markdown",
      "source": [
        "## **Prerequisites Setup**"
      ],
      "metadata": {
        "id": "2G_hwDrul5vp"
      }
    },
    {
      "cell_type": "markdown",
      "source": [
        "* Follow [these steps](https://docs.datastax.com/en/astra-serverless/docs/vector-search/overview.html) to create a new vector search enabled database in Astra.\n",
        "* Enable the Preview Developer Experience\n",
        "* From the Database Details on the right side of your database screen:\n",
        "** generate and save an Application Token\n",
        "** save the API Endpoint\n",
        "* You can download the full flickr 8k dataset from kaggle\n",
        "https://www.kaggle.com/datasets/adityajn105/flickr8k\n",
        "but for speed in this repo uses a subset of around 100 images and their corresponding captions.  You will need to download that zip and either upload to colab or unzip locally.  The subset zip is found named flickr.tar.gz in https://github.com/osaeed-ds/astrapy-imagesearch\n"
      ],
      "metadata": {
        "id": "lKQJUFxgk6Vs"
      }
    },
    {
      "cell_type": "code",
      "execution_count": null,
      "metadata": {
        "id": "APoQmjb67IZP"
      },
      "outputs": [],
      "source": [
        "!pip install pandas torch pillow langchain astrapy git+https://github.com/openai/CLIP.git"
      ]
    },
    {
      "cell_type": "code",
      "source": [
        "import os\n",
        "import torch\n",
        "import clip\n",
        "from PIL import Image\n",
        "import pandas as pd\n",
        "from astrapy.db import AstraDB\n",
        "from getpass import getpass"
      ],
      "metadata": {
        "id": "j9S0IcJe7o6e"
      },
      "execution_count": 49,
      "outputs": []
    },
    {
      "cell_type": "markdown",
      "source": [
        "## **Setup AstraDB Connection and Create Collection**\n"
      ],
      "metadata": {
        "id": "ZB6-tvQkl-Ei"
      }
    },
    {
      "cell_type": "code",
      "source": [
        "# Input your API ENDPOINT:\n",
        "ASTRA_DB_API_ENDPOINT = input('Your collection name (e.g. UUID-REGION.apps.astra.datastax.com): ')"
      ],
      "metadata": {
        "id": "8pc8zECu2VzF"
      },
      "execution_count": null,
      "outputs": []
    },
    {
      "cell_type": "code",
      "source": [
        "# Input your Astra DB Application Token string, the one starting with \"AstraCS:...\"\n",
        "ASTRA_DB_TOKEN_BASED_PASSWORD = getpass('Your AstraDB Application Token (starts with AstraCS): ')"
      ],
      "metadata": {
        "id": "UPH8jRQl0Zd2"
      },
      "execution_count": null,
      "outputs": []
    },
    {
      "cell_type": "code",
      "source": [
        "# Input your collection name:\n",
        "ASTRA_DB_COLLECTION = input('Your collection name (e.g. image_vectors): ')"
      ],
      "metadata": {
        "id": "TDDh6Bza0moR"
      },
      "execution_count": null,
      "outputs": []
    },
    {
      "cell_type": "code",
      "source": [
        "# Input your Vector's Dimensionality (e.g. 512):\n",
        "ASTRA_DB_VECTOR_DIMENSIONALITY = input('The dimensionality of your emedding vector (e.g. 512 for the CLIP ViT-B/32 embedding model): ')"
      ],
      "metadata": {
        "colab": {
          "base_uri": "https://localhost:8080/"
        },
        "id": "uNInz4sN04C3",
        "outputId": "5f7ad8b9-09ce-4868-977b-1171fdd88793"
      },
      "execution_count": 66,
      "outputs": [
        {
          "name": "stdout",
          "output_type": "stream",
          "text": [
            "The dimensionality of your emedding vector (e.g. 512 for the CLIP ViT-B/32 embedding model): 512\n"
          ]
        }
      ]
    },
    {
      "cell_type": "code",
      "source": [
        "db = AstraDB(\n",
        "  token=ASTRA_DB_TOKEN_BASED_PASSWORD,\n",
        "  api_endpoint=ASTRA_DB_API_ENDPOINT,\n",
        ")\n",
        "\n",
        "# Create collection\n",
        "col = db.create_collection(ASTRA_DB_COLLECTION, dimension=ASTRA_DB_VECTOR_DIMENSIONALITY)"
      ],
      "metadata": {
        "id": "Yx3tH6FOZsa5"
      },
      "execution_count": null,
      "outputs": []
    },
    {
      "cell_type": "markdown",
      "source": [
        "## **Setup AstraDB Connection and Create Collection**\n"
      ],
      "metadata": {
        "id": "QiaW4FdPmRKO"
      }
    },
    {
      "cell_type": "markdown",
      "source": [
        "We are going to use CLIP from OpenAI.  Note there is a separate python module named clip, and you will get errors if you pip install clip instead of the specific clip from OpenAI"
      ],
      "metadata": {
        "id": "1leni0bNmLeU"
      }
    },
    {
      "cell_type": "code",
      "source": [
        "device = \"cuda\" if torch.cuda.is_available() else \"cpu\"\n",
        "model, transform = clip.load(\"ViT-B/32\", device=device)\n",
        "\n"
      ],
      "metadata": {
        "id": "7LxLs_OPQEo-"
      },
      "execution_count": 55,
      "outputs": []
    },
    {
      "cell_type": "markdown",
      "source": [
        "## **Load the captions**\n",
        "Load the captions for each image.  The CLIP model will take as inputs the image and caption to generate the embeddings.  This will enable search for vector searches of images either by caption or by a similar image.\n"
      ],
      "metadata": {
        "id": "08oSkwwAmr-L"
      }
    },
    {
      "cell_type": "code",
      "source": [
        "df = pd.read_csv('flickr/captions.txt')\n",
        "df"
      ],
      "metadata": {
        "colab": {
          "base_uri": "https://localhost:8080/",
          "height": 424
        },
        "id": "UcveNtUORwyT",
        "outputId": "9434fe3b-6259-4404-b23e-c0d203144ddd"
      },
      "execution_count": 56,
      "outputs": [
        {
          "output_type": "execute_result",
          "data": {
            "text/plain": [
              "                        image  \\\n",
              "0    101654506_8eb26cfb60.jpg   \n",
              "1    101654506_8eb26cfb60.jpg   \n",
              "2    101654506_8eb26cfb60.jpg   \n",
              "3    101654506_8eb26cfb60.jpg   \n",
              "4    101654506_8eb26cfb60.jpg   \n",
              "..                        ...   \n",
              "460   99679241_adc853a5c0.jpg   \n",
              "461   99679241_adc853a5c0.jpg   \n",
              "462   99679241_adc853a5c0.jpg   \n",
              "463   99679241_adc853a5c0.jpg   \n",
              "464   99679241_adc853a5c0.jpg   \n",
              "\n",
              "                                               caption  \n",
              "0    A brown and white dog is running through the s...  \n",
              "1                         A dog is running in the snow  \n",
              "2                         A dog running through snow .  \n",
              "3    a white and brown dog is running through a sno...  \n",
              "4    The white and brown dog is running over the su...  \n",
              "..                                                 ...  \n",
              "460  A grey bird stands majestically on a beach whi...  \n",
              "461    A large bird stands in the water on the beach .  \n",
              "462  A tall bird is standing on the sand beside the...  \n",
              "463       A water bird standing at the ocean 's edge .  \n",
              "464  A white crane stands tall as it looks out upon...  \n",
              "\n",
              "[465 rows x 2 columns]"
            ],
            "text/html": [
              "\n",
              "  <div id=\"df-819a313a-8d18-49fd-a9aa-acceee6e8f5d\" class=\"colab-df-container\">\n",
              "    <div>\n",
              "<style scoped>\n",
              "    .dataframe tbody tr th:only-of-type {\n",
              "        vertical-align: middle;\n",
              "    }\n",
              "\n",
              "    .dataframe tbody tr th {\n",
              "        vertical-align: top;\n",
              "    }\n",
              "\n",
              "    .dataframe thead th {\n",
              "        text-align: right;\n",
              "    }\n",
              "</style>\n",
              "<table border=\"1\" class=\"dataframe\">\n",
              "  <thead>\n",
              "    <tr style=\"text-align: right;\">\n",
              "      <th></th>\n",
              "      <th>image</th>\n",
              "      <th>caption</th>\n",
              "    </tr>\n",
              "  </thead>\n",
              "  <tbody>\n",
              "    <tr>\n",
              "      <th>0</th>\n",
              "      <td>101654506_8eb26cfb60.jpg</td>\n",
              "      <td>A brown and white dog is running through the s...</td>\n",
              "    </tr>\n",
              "    <tr>\n",
              "      <th>1</th>\n",
              "      <td>101654506_8eb26cfb60.jpg</td>\n",
              "      <td>A dog is running in the snow</td>\n",
              "    </tr>\n",
              "    <tr>\n",
              "      <th>2</th>\n",
              "      <td>101654506_8eb26cfb60.jpg</td>\n",
              "      <td>A dog running through snow .</td>\n",
              "    </tr>\n",
              "    <tr>\n",
              "      <th>3</th>\n",
              "      <td>101654506_8eb26cfb60.jpg</td>\n",
              "      <td>a white and brown dog is running through a sno...</td>\n",
              "    </tr>\n",
              "    <tr>\n",
              "      <th>4</th>\n",
              "      <td>101654506_8eb26cfb60.jpg</td>\n",
              "      <td>The white and brown dog is running over the su...</td>\n",
              "    </tr>\n",
              "    <tr>\n",
              "      <th>...</th>\n",
              "      <td>...</td>\n",
              "      <td>...</td>\n",
              "    </tr>\n",
              "    <tr>\n",
              "      <th>460</th>\n",
              "      <td>99679241_adc853a5c0.jpg</td>\n",
              "      <td>A grey bird stands majestically on a beach whi...</td>\n",
              "    </tr>\n",
              "    <tr>\n",
              "      <th>461</th>\n",
              "      <td>99679241_adc853a5c0.jpg</td>\n",
              "      <td>A large bird stands in the water on the beach .</td>\n",
              "    </tr>\n",
              "    <tr>\n",
              "      <th>462</th>\n",
              "      <td>99679241_adc853a5c0.jpg</td>\n",
              "      <td>A tall bird is standing on the sand beside the...</td>\n",
              "    </tr>\n",
              "    <tr>\n",
              "      <th>463</th>\n",
              "      <td>99679241_adc853a5c0.jpg</td>\n",
              "      <td>A water bird standing at the ocean 's edge .</td>\n",
              "    </tr>\n",
              "    <tr>\n",
              "      <th>464</th>\n",
              "      <td>99679241_adc853a5c0.jpg</td>\n",
              "      <td>A white crane stands tall as it looks out upon...</td>\n",
              "    </tr>\n",
              "  </tbody>\n",
              "</table>\n",
              "<p>465 rows × 2 columns</p>\n",
              "</div>\n",
              "    <div class=\"colab-df-buttons\">\n",
              "\n",
              "  <div class=\"colab-df-container\">\n",
              "    <button class=\"colab-df-convert\" onclick=\"convertToInteractive('df-819a313a-8d18-49fd-a9aa-acceee6e8f5d')\"\n",
              "            title=\"Convert this dataframe to an interactive table.\"\n",
              "            style=\"display:none;\">\n",
              "\n",
              "  <svg xmlns=\"http://www.w3.org/2000/svg\" height=\"24px\" viewBox=\"0 -960 960 960\">\n",
              "    <path d=\"M120-120v-720h720v720H120Zm60-500h600v-160H180v160Zm220 220h160v-160H400v160Zm0 220h160v-160H400v160ZM180-400h160v-160H180v160Zm440 0h160v-160H620v160ZM180-180h160v-160H180v160Zm440 0h160v-160H620v160Z\"/>\n",
              "  </svg>\n",
              "    </button>\n",
              "\n",
              "  <style>\n",
              "    .colab-df-container {\n",
              "      display:flex;\n",
              "      gap: 12px;\n",
              "    }\n",
              "\n",
              "    .colab-df-convert {\n",
              "      background-color: #E8F0FE;\n",
              "      border: none;\n",
              "      border-radius: 50%;\n",
              "      cursor: pointer;\n",
              "      display: none;\n",
              "      fill: #1967D2;\n",
              "      height: 32px;\n",
              "      padding: 0 0 0 0;\n",
              "      width: 32px;\n",
              "    }\n",
              "\n",
              "    .colab-df-convert:hover {\n",
              "      background-color: #E2EBFA;\n",
              "      box-shadow: 0px 1px 2px rgba(60, 64, 67, 0.3), 0px 1px 3px 1px rgba(60, 64, 67, 0.15);\n",
              "      fill: #174EA6;\n",
              "    }\n",
              "\n",
              "    .colab-df-buttons div {\n",
              "      margin-bottom: 4px;\n",
              "    }\n",
              "\n",
              "    [theme=dark] .colab-df-convert {\n",
              "      background-color: #3B4455;\n",
              "      fill: #D2E3FC;\n",
              "    }\n",
              "\n",
              "    [theme=dark] .colab-df-convert:hover {\n",
              "      background-color: #434B5C;\n",
              "      box-shadow: 0px 1px 3px 1px rgba(0, 0, 0, 0.15);\n",
              "      filter: drop-shadow(0px 1px 2px rgba(0, 0, 0, 0.3));\n",
              "      fill: #FFFFFF;\n",
              "    }\n",
              "  </style>\n",
              "\n",
              "    <script>\n",
              "      const buttonEl =\n",
              "        document.querySelector('#df-819a313a-8d18-49fd-a9aa-acceee6e8f5d button.colab-df-convert');\n",
              "      buttonEl.style.display =\n",
              "        google.colab.kernel.accessAllowed ? 'block' : 'none';\n",
              "\n",
              "      async function convertToInteractive(key) {\n",
              "        const element = document.querySelector('#df-819a313a-8d18-49fd-a9aa-acceee6e8f5d');\n",
              "        const dataTable =\n",
              "          await google.colab.kernel.invokeFunction('convertToInteractive',\n",
              "                                                    [key], {});\n",
              "        if (!dataTable) return;\n",
              "\n",
              "        const docLinkHtml = 'Like what you see? Visit the ' +\n",
              "          '<a target=\"_blank\" href=https://colab.research.google.com/notebooks/data_table.ipynb>data table notebook</a>'\n",
              "          + ' to learn more about interactive tables.';\n",
              "        element.innerHTML = '';\n",
              "        dataTable['output_type'] = 'display_data';\n",
              "        await google.colab.output.renderOutput(dataTable, element);\n",
              "        const docLink = document.createElement('div');\n",
              "        docLink.innerHTML = docLinkHtml;\n",
              "        element.appendChild(docLink);\n",
              "      }\n",
              "    </script>\n",
              "  </div>\n",
              "\n",
              "\n",
              "<div id=\"df-13b13d49-c003-4d22-b956-94fc4a60868d\">\n",
              "  <button class=\"colab-df-quickchart\" onclick=\"quickchart('df-13b13d49-c003-4d22-b956-94fc4a60868d')\"\n",
              "            title=\"Suggest charts\"\n",
              "            style=\"display:none;\">\n",
              "\n",
              "<svg xmlns=\"http://www.w3.org/2000/svg\" height=\"24px\"viewBox=\"0 0 24 24\"\n",
              "     width=\"24px\">\n",
              "    <g>\n",
              "        <path d=\"M19 3H5c-1.1 0-2 .9-2 2v14c0 1.1.9 2 2 2h14c1.1 0 2-.9 2-2V5c0-1.1-.9-2-2-2zM9 17H7v-7h2v7zm4 0h-2V7h2v10zm4 0h-2v-4h2v4z\"/>\n",
              "    </g>\n",
              "</svg>\n",
              "  </button>\n",
              "\n",
              "<style>\n",
              "  .colab-df-quickchart {\n",
              "      --bg-color: #E8F0FE;\n",
              "      --fill-color: #1967D2;\n",
              "      --hover-bg-color: #E2EBFA;\n",
              "      --hover-fill-color: #174EA6;\n",
              "      --disabled-fill-color: #AAA;\n",
              "      --disabled-bg-color: #DDD;\n",
              "  }\n",
              "\n",
              "  [theme=dark] .colab-df-quickchart {\n",
              "      --bg-color: #3B4455;\n",
              "      --fill-color: #D2E3FC;\n",
              "      --hover-bg-color: #434B5C;\n",
              "      --hover-fill-color: #FFFFFF;\n",
              "      --disabled-bg-color: #3B4455;\n",
              "      --disabled-fill-color: #666;\n",
              "  }\n",
              "\n",
              "  .colab-df-quickchart {\n",
              "    background-color: var(--bg-color);\n",
              "    border: none;\n",
              "    border-radius: 50%;\n",
              "    cursor: pointer;\n",
              "    display: none;\n",
              "    fill: var(--fill-color);\n",
              "    height: 32px;\n",
              "    padding: 0;\n",
              "    width: 32px;\n",
              "  }\n",
              "\n",
              "  .colab-df-quickchart:hover {\n",
              "    background-color: var(--hover-bg-color);\n",
              "    box-shadow: 0 1px 2px rgba(60, 64, 67, 0.3), 0 1px 3px 1px rgba(60, 64, 67, 0.15);\n",
              "    fill: var(--button-hover-fill-color);\n",
              "  }\n",
              "\n",
              "  .colab-df-quickchart-complete:disabled,\n",
              "  .colab-df-quickchart-complete:disabled:hover {\n",
              "    background-color: var(--disabled-bg-color);\n",
              "    fill: var(--disabled-fill-color);\n",
              "    box-shadow: none;\n",
              "  }\n",
              "\n",
              "  .colab-df-spinner {\n",
              "    border: 2px solid var(--fill-color);\n",
              "    border-color: transparent;\n",
              "    border-bottom-color: var(--fill-color);\n",
              "    animation:\n",
              "      spin 1s steps(1) infinite;\n",
              "  }\n",
              "\n",
              "  @keyframes spin {\n",
              "    0% {\n",
              "      border-color: transparent;\n",
              "      border-bottom-color: var(--fill-color);\n",
              "      border-left-color: var(--fill-color);\n",
              "    }\n",
              "    20% {\n",
              "      border-color: transparent;\n",
              "      border-left-color: var(--fill-color);\n",
              "      border-top-color: var(--fill-color);\n",
              "    }\n",
              "    30% {\n",
              "      border-color: transparent;\n",
              "      border-left-color: var(--fill-color);\n",
              "      border-top-color: var(--fill-color);\n",
              "      border-right-color: var(--fill-color);\n",
              "    }\n",
              "    40% {\n",
              "      border-color: transparent;\n",
              "      border-right-color: var(--fill-color);\n",
              "      border-top-color: var(--fill-color);\n",
              "    }\n",
              "    60% {\n",
              "      border-color: transparent;\n",
              "      border-right-color: var(--fill-color);\n",
              "    }\n",
              "    80% {\n",
              "      border-color: transparent;\n",
              "      border-right-color: var(--fill-color);\n",
              "      border-bottom-color: var(--fill-color);\n",
              "    }\n",
              "    90% {\n",
              "      border-color: transparent;\n",
              "      border-bottom-color: var(--fill-color);\n",
              "    }\n",
              "  }\n",
              "</style>\n",
              "\n",
              "  <script>\n",
              "    async function quickchart(key) {\n",
              "      const quickchartButtonEl =\n",
              "        document.querySelector('#' + key + ' button');\n",
              "      quickchartButtonEl.disabled = true;  // To prevent multiple clicks.\n",
              "      quickchartButtonEl.classList.add('colab-df-spinner');\n",
              "      try {\n",
              "        const charts = await google.colab.kernel.invokeFunction(\n",
              "            'suggestCharts', [key], {});\n",
              "      } catch (error) {\n",
              "        console.error('Error during call to suggestCharts:', error);\n",
              "      }\n",
              "      quickchartButtonEl.classList.remove('colab-df-spinner');\n",
              "      quickchartButtonEl.classList.add('colab-df-quickchart-complete');\n",
              "    }\n",
              "    (() => {\n",
              "      let quickchartButtonEl =\n",
              "        document.querySelector('#df-13b13d49-c003-4d22-b956-94fc4a60868d button');\n",
              "      quickchartButtonEl.style.display =\n",
              "        google.colab.kernel.accessAllowed ? 'block' : 'none';\n",
              "    })();\n",
              "  </script>\n",
              "</div>\n",
              "    </div>\n",
              "  </div>\n"
            ]
          },
          "metadata": {},
          "execution_count": 56
        }
      ]
    },
    {
      "cell_type": "markdown",
      "source": [
        "## **Helper functions to generate embeddings**\n"
      ],
      "metadata": {
        "id": "NlWfPwNBnYAs"
      }
    },
    {
      "cell_type": "code",
      "source": [
        "# Based on this paper\n",
        "# https://ai.meta.com/research/publications/scaling-autoregressive-multi-modal-models-pretraining-and-instruction-tuning/\n",
        "def get_clip_embedding(text, image_path):\n",
        "    image = transform(Image.open(image_path)).unsqueeze(0).to(device)\n",
        "    text = clip.tokenize(text,truncate=True).to(device)\n",
        "    with torch.no_grad():\n",
        "        image_features = model.encode_image(image)\n",
        "        text_features = model.encode_text(text)\n",
        "    image_features /= image_features.norm(dim=-1, keepdim=True)\n",
        "    text_features /= text_features.norm(dim=-1, keepdim=True)\n",
        "    averaged_features = (image_features + text_features) / 2\n",
        "    return averaged_features.numpy().tolist()\n",
        "\n",
        "def embed_query(q):\n",
        "    query_embed = clip.tokenize(query,truncate=True).to(device)\n",
        "    with torch.no_grad():\n",
        "        text_features = model.encode_text(query_embed)\n",
        "        text_features /= text_features.norm(dim=-1, keepdim=True)\n",
        "    return text_features.numpy().tolist()[0]\n",
        "\n",
        "def embed_image(image_path):\n",
        "    image = transform(Image.open(image_path)).unsqueeze(0).to(device)\n",
        "    with torch.no_grad():\n",
        "        image_features = model.encode_image(image)\n",
        "        image_features /= image_features.norm(dim=-1, keepdim=True)\n",
        "    return image_features.numpy().tolist()[0]\n"
      ],
      "metadata": {
        "id": "ryO14muVR6kr"
      },
      "execution_count": 57,
      "outputs": []
    },
    {
      "cell_type": "markdown",
      "source": [
        "## **Generate Vectors and Load the data into AstraDB**\n",
        "Loading all flickr data\n",
        "This step is a bit inefficient.  It goes ahead and deletes the existing document by rowid and then inserts a new document one at a time.  The API does support inserting multiple documents at once as well as updates."
      ],
      "metadata": {
        "id": "An1xdt5mngeI"
      }
    },
    {
      "cell_type": "code",
      "source": [
        "for index, row in df.iterrows():\n",
        "    response = col.delete(id=index)\n",
        "    image_url = f'{os.getcwd()}/flickr/Images/{row[\"image\"]}'\n",
        "    caption = row['caption']\n",
        "    vector=get_clip_embedding(caption,image_url)[0]\n",
        "    col.insert_one(\n",
        "        {\n",
        "            \"_id\": index,\n",
        "            \"image_url\": image_url,\n",
        "            \"caption\": caption,\n",
        "            \"$vector\": vector\n",
        "        }\n",
        "    )\n",
        "    print(index, image_url, caption, vector)"
      ],
      "metadata": {
        "id": "QClRWQ3ObDtZ"
      },
      "execution_count": null,
      "outputs": []
    },
    {
      "cell_type": "markdown",
      "source": [
        "## **Text Query Search**\n"
      ],
      "metadata": {
        "id": "wd3TDWqI48Kw"
      }
    },
    {
      "cell_type": "code",
      "source": [
        "#text query search\n",
        "query = \"boy running outside\"\n",
        "results = col.vector_find(embed_query(query), limit=3)\n",
        "for r in results:\n",
        "    print(r)\n",
        "\n"
      ],
      "metadata": {
        "colab": {
          "base_uri": "https://localhost:8080/"
        },
        "id": "tNNYStGBeVhA",
        "outputId": "68689e0d-b9a6-4a03-b0f3-ceaa87bc65bb"
      },
      "execution_count": 41,
      "outputs": [
        {
          "output_type": "stream",
          "name": "stdout",
          "text": [
            "{'_id': 49, 'image_url': '/content/flickr/Images/106490881_5a2dd9b7bd.jpg', 'caption': 'The boy is playing on the shore of an ocean .', '$vector': [0.005147820804268122, 0.02183985337615013, -0.017937414348125458, 0.0008977535180747509, 0.03262048587203026, -0.011528102681040764, -0.010737194679677486, -0.05298120900988579, 0.003845768980681896, 0.009611343033611774, 0.03429984301328659, -0.00736296596005559, 0.0033231941051781178, 0.015889972448349, 0.006193873472511768, 0.0019581345841288567, 0.010542633011937141, -0.015687664970755577, 0.026152659207582474, -0.014370724558830261, -0.02665530890226364, 0.02697252854704857, 0.03069976158440113, 0.028646482154726982, 0.001870188396424055, 0.021067677065730095, -0.03035666234791279, -0.004331015516072512, -0.03901532292366028, 0.0031969482079148293, 0.02209995873272419, 0.020709745585918427, 0.04479292407631874, -0.0041099414229393005, -0.008318895474076271, -0.006428428925573826, -0.004477131180465221, 0.050930581986904144, 0.008684108965098858, 0.021873153746128082, -0.01483052410185337, 0.0210673026740551, -0.0031828503124415874, -0.025755196809768677, 0.003970456309616566, 0.04384275898337364, 0.04493283852934837, -0.017791878432035446, 0.011141554452478886, 0.013226926326751709, 0.006753025576472282, 0.022728843614459038, -0.005394728388637304, -0.010278750211000443, -0.00031762459548190236, -0.010298244655132294, -0.01840713992714882, 0.009981108829379082, -0.007178649306297302, 0.0006536056753247976, 0.09274079650640488, -0.020173978060483932, -0.006759812589734793, -0.003062860807403922, 0.01709447056055069, -0.015844309702515602, -0.019586432725191116, 0.13507911562919617, -0.011796241626143456, 0.005233585834503174, 0.012466532178223133, 0.004267025738954544, 0.010035108774900436, -0.03257328271865845, -0.007843432016670704, -0.010782932862639427, -0.009718646295368671, 0.0012037353590130806, 0.02357741817831993, -0.01613461598753929, 0.026430610567331314, -0.006533913780003786, 0.0008071004413068295, -0.012794085778295994, 0.012261683121323586, 0.0020905632991343737, 0.010887250304222107, -0.0014223200269043446, -0.02300063893198967, -0.008253033272922039, -0.008530105464160442, -0.057544924318790436, -0.38768264651298523, -0.05644136667251587, -0.005235479213297367, -0.0007743355818092823, -0.004923605360090733, 0.010572722181677818, 0.020468274131417274, -0.07031361758708954, 0.025396525859832764, 0.026467762887477875, -0.015482665039598942, 0.018996842205524445, -0.022354019805788994, -0.007240666542202234, 0.06436581164598465, 0.02347974106669426, -0.007291973102837801, -0.0014445360284298658, 0.009982296265661716, 0.01399131491780281, -0.004735281225293875, -0.0027761925011873245, 0.013015558943152428, -0.03637654334306717, -0.02459578588604927, 0.005441107787191868, -0.0299618449062109, 0.019881244748830795, 0.005936112254858017, -0.04123854264616966, -0.02168308198451996, -0.015838567167520523, -0.0006537549197673798, -0.0314413346350193, -0.006399005651473999, -0.007164807990193367, 0.012767261825501919, 0.0376589372754097, 0.02807394415140152, -0.019823085516691208, -0.015133604407310486, 0.3041631579399109, -0.06187359243631363, -0.0188135989010334, 0.02847144939005375, 0.05798758938908577, -0.009304504841566086, -0.0017099878750741482, -0.007852745242416859, -0.05129378288984299, -0.02534748613834381, 0.02771696262061596, -0.0193469375371933, -0.02204076573252678, -0.013313435949385166, 0.030699972063302994, -0.027412738651037216, -0.01985897496342659, -0.0012540798634290695, 0.011241218075156212, -0.009835386648774147, 0.030964810401201248, 0.035653214901685715, -0.028675153851509094, 0.01592901162803173, -0.00910969078540802, -0.015844542533159256, 0.03823114186525345, 0.007969364523887634, 0.012913151644170284, -0.006370831280946732, -0.009999848902225494, 0.005599491763859987, -0.005375661421567202, 0.04297003895044327, 0.010892167687416077, -0.022476153448224068, -0.005014188587665558, -0.007129507604986429, -0.0185928326100111, 0.007103783078491688, 0.010913053527474403, -0.019138727337121964, -0.0168823953717947, 0.006864212453365326, 0.02157329022884369, -0.08209376037120819, 0.00039481394924223423, 0.0077982135117053986, 0.007796581834554672, 0.02186061069369316, -0.03713769093155861, -0.045412756502628326, 0.01882988214492798, 0.021765118464827538, -0.04534980282187462, 2.429727464914322e-05, 0.017941787838935852, 0.012828728184103966, -0.0005756127648055553, -0.039398208260536194, 0.027619656175374985, 0.01623285375535488, -0.012748940847814083, -0.020297786220908165, 0.012817741371691227, -0.0060416217893362045, -0.015283986926078796, 0.01898431032896042, 0.004939626436680555, 0.006934554316103458, -0.0038423286750912666, 0.04595349356532097, 0.003564072772860527, -0.0061094192788004875, -0.007762391120195389, 0.011504579335451126, 0.023848047479987144, -0.012037547305226326, 0.023230155929923058, 0.013228898867964745, 0.03443005308508873, 0.01707972027361393, 0.01702534779906273, 0.006653624586760998, 0.0033045264426618814, 1.6293488442897797e-05, 0.020982980728149414, 0.02609635517001152, 0.01689208671450615, -0.011225564405322075, 0.005183960776776075, -0.001960772555321455, 0.004518128000199795, -0.013765094801783562, -0.03321291133761406, -0.010388205759227276, 0.018353138118982315, 0.005246153101325035, 0.01858534850180149, 0.023707423359155655, -0.0299113467335701, 0.031013930216431618, -0.09736231714487076, -0.010184654034674168, -0.013809657655656338, 0.0020112860947847366, 0.0025561361107975245, -0.005415475927293301, 0.013426999561488628, 0.0025513351429253817, 0.031199485063552856, -0.013381513766944408, -0.03024373948574066, 0.0020329849794507027, 0.02761675976216793, 0.01549422275274992, 0.00990609172731638, -0.027519475668668747, -0.010896259918808937, 0.014864029362797737, 0.008442492224276066, -0.03758794814348221, 0.011775562539696693, -0.017392689362168312, 0.005371586419641972, 0.03001519851386547, 0.014579052105545998, 0.05049782246351242, -0.010512178763747215, -0.004920355509966612, -0.04450758546590805, 0.026699954643845558, -0.018629439175128937, 0.020668724551796913, -0.002903797198086977, 0.011741490103304386, -0.010929581709206104, 0.010422809049487114, 0.03165986388921738, 0.027808578684926033, 0.016471754759550095, -0.00960015319287777, -0.027490008622407913, 0.015339147299528122, -0.01092199794948101, 0.0030386848375201225, -0.005036796443164349, 0.00047514913603663445, 0.03423091769218445, 0.006700881756842136, 0.002669448032975197, -0.023351524025201797, 0.012313229963183403, 0.015864968299865723, -0.013103739358484745, -0.02516680583357811, -0.043532609939575195, 0.00457401666790247, 0.015849057585000992, 0.015535883605480194, -0.00562390498816967, -0.05695587769150734, -0.003719438798725605, -0.017894817516207695, 0.033981919288635254, -0.023236490786075592, 0.00996463280171156, 0.01932079717516899, -0.005269976332783699, 0.021217744797468185, -0.0352608747780323, 0.01954575628042221, -0.03901297226548195, 0.01139928586781025, 0.02266799844801426, 0.010102699510753155, -0.0030478015542030334, 0.01373413298279047, -0.0004180027171969414, 0.3038533329963684, 0.05959969758987427, 0.0036033103242516518, 0.012973018921911716, 0.025871191173791885, 0.03207983821630478, -0.01409257110208273, -0.06419330835342407, 0.033353231847286224, 0.0205436609685421, -0.0045412397012114525, -0.027017440646886826, 0.0028181185480207205, 0.01895870640873909, -0.034429989755153656, 0.01014617644250393, 0.014211436733603477, -0.06866093724966049, -0.004060911480337381, -0.045071348547935486, 0.028126800432801247, -0.015066862106323242, -0.0185710322111845, -0.0051468051970005035, -0.021593621000647545, 0.018381908535957336, -0.019162604585289955, -0.0017168843187391758, -0.004667859524488449, -0.0010981066152453423, 0.03797677904367447, 0.009559700265526772, 0.02761244960129261, -0.016178853809833527, 0.026385676115751266, 0.04134323447942734, 0.02845528908073902, -0.007019995711743832, 0.004698578733950853, -0.007261010818183422, -0.006903250701725483, -0.0057645076885819435, 0.0049743130803108215, 0.04294867068529129, -0.020919766277074814, 0.014660047367215157, 0.0027276920154690742, 0.00011455826461315155, 0.06991387903690338, -0.010077932849526405, 0.015664227306842804, 0.02524198591709137, -0.03111615590751171, 0.02027713879942894, -0.01365903951227665, -0.02743810974061489, -0.031751275062561035, -0.01410629041492939, -0.0007622902048751712, -0.017739512026309967, 0.0026512511540204287, 0.0030895788222551346, 0.03558828681707382, 0.010903362184762955, 0.06814748048782349, 0.0005540940910577774, 0.01621429994702339, 0.034108441323041916, 0.003770296461880207, -0.016416499391198158, 0.021656254306435585, -0.019541345536708832, 0.00304977223277092, -0.032445404678583145, -0.0014397588092833757, -0.039600178599357605, 0.003655949141830206, -0.05338605120778084, -0.0027459608390927315, -0.04377252236008644, 0.03829478472471237, 0.02501581981778145, 0.02354695275425911, -0.01303715817630291, 0.014958193525671959, -0.026566579937934875, 0.013756509870290756, 0.03127289190888405, 0.009013930335640907, 0.0018682233057916164, -0.029148221015930176, -0.023022394627332687, 0.0152363870292902, -0.005414323881268501, -0.0045954519882798195, -0.05577882379293442, 0.026219364255666733, 0.02088358998298645, 0.038507357239723206, 0.014949856325984001, -0.020458383485674858, -0.02551666833460331, 0.01023450680077076, 0.03328368812799454, 0.013531677424907684, 0.02376209944486618, 0.016286270692944527, 0.007736817002296448, 0.04385948181152344, -0.022718939930200577, 0.013256997801363468, -0.08697846531867981, 0.01593012735247612, -0.009164988063275814, -3.8790516555309296e-05, -0.010547543875873089, 0.033796630799770355, 0.02977737784385681, 0.024698907509446144, -0.037342630326747894, 0.06467540562152863, -0.023023780435323715, -0.006979136262089014, -0.009547481313347816, -0.020187698304653168, 0.00834481418132782, 0.005197758786380291, 0.006785417441278696, -0.02094496414065361, -0.02789773792028427, -0.02614985778927803, 0.003422821406275034, -0.008923707529902458, -0.002566858194768429, -0.03800632804632187, 0.009321902878582478, 0.006532453931868076, 0.016965502873063087, -0.07088154554367065, 0.024353977292776108, 0.040299247950315475, -0.001366547541692853, 0.004267896991223097, -0.0022768215276300907, -0.0104233892634511, -0.018897609785199165, 0.005679462105035782, 0.0124552296474576, 0.004598964937031269, -0.025101128965616226, 0.02489415556192398, 0.001103939488530159, 0.031535450369119644, 0.007212697993963957, 0.015505846589803696, -0.018053896725177765, -0.014608461409807205, 0.03026384487748146, 0.03499859571456909, 0.00457380898296833, 0.009167569689452648, -0.003599568735808134, -0.021455839276313782, -0.006624569185078144, -0.006998836994171143, -0.012703344225883484, 0.0008048452436923981, 0.009420881047844887, 0.016090640798211098, -0.031756121665239334, 0.023931875824928284, -0.0038173599168658257, 0.015936773270368576, -0.004376768134534359, -0.0036837926600128412, -0.018296027556061745, -0.02007988840341568, -0.021143285557627678, 0.009791562333703041, 0.02266867458820343, 0.014054663479328156, 0.028640320524573326, -0.020264647901058197, -0.015308496542274952, 0.015071898698806763, 0.0031164244282990694, -0.048794496804475784, -0.020033571869134903, -0.004056242760270834, 0.0054009538143873215, -0.0013346923515200615, 0.03327690064907074, 0.01735313981771469, -0.006961482111364603, 0.005147294141352177, 0.027028484269976616, -0.042004067450761795, 0.03485821932554245, 0.007482592016458511, -0.0020991680212318897], '$similarity': 0.84079957}\n",
            "{'_id': 1, 'image_url': '/content/flickr/Images/101654506_8eb26cfb60.jpg', 'caption': 'A dog is running in the snow', '$vector': [-0.003918179776519537, 0.011714942753314972, -0.014174934476613998, 0.024386540055274963, 0.006150924134999514, -0.005537243559956551, 0.022669047117233276, -0.03367574140429497, -0.007143608760088682, 0.0029182983562350273, -0.005458969157189131, -0.02945937030017376, 0.01954881101846695, 0.0017234344268217683, 0.05721132829785347, 0.00021596485748887062, -0.017345920205116272, 0.01670028641819954, 0.004703249782323837, -0.012984395027160645, -0.09487119317054749, 0.006541779730468988, 9.510759264230728e-05, -0.01725740358233452, 0.008775116875767708, 0.021165981888771057, 0.02517712675035, 0.01983024552464485, -0.016600128263235092, -0.023922106251120567, 0.025786790996789932, 0.0050019510090351105, 0.024165652692317963, -0.019387900829315186, 0.006832204759120941, -0.0046046278439462185, -0.0026901117525994778, 0.019675882533192635, -0.006802194286137819, 0.06485604494810104, -0.016380352899432182, 0.0059397341683506966, 0.016434352844953537, 0.0014348821714520454, 0.0019565606489777565, -0.014314026571810246, 5.277339369058609e-06, -0.0329878069460392, 0.0029218653216958046, 0.022859536111354828, 0.005601097829639912, 0.02371072769165039, -0.016192816197872162, 0.029370373114943504, 0.03328009322285652, -0.011570969596505165, 0.0664832666516304, 0.02908455953001976, -0.032277077436447144, -0.005863426253199577, 0.027888813987374306, 0.014069171622395515, -0.004822385497391224, 0.024937599897384644, 0.0012002752628177404, -0.029104240238666534, 0.010212606750428677, -0.012366358190774918, -0.014334108680486679, 0.0019209778402000666, 0.01375618763267994, -0.014660830609500408, 0.01366804912686348, -2.1619838662445545e-05, -0.028365358710289, 0.02979879081249237, 0.012843768112361431, 0.009213447570800781, -0.016668064519762993, 0.012192022986710072, 0.01224459707736969, 0.0016703803557902575, -0.015407487750053406, 0.006780227646231651, 0.016922608017921448, 0.00433483999222517, 0.013622185215353966, 0.003090269397944212, 0.008277460932731628, -0.01839212328195572, -0.015047966502606869, -0.0054560168646276, -0.38404303789138794, 0.03160233795642853, -0.026162873953580856, 0.003854295238852501, -0.034548088908195496, 0.01316574402153492, -0.03469371050596237, -0.03351438418030739, 0.025120176374912262, 0.031043676659464836, 0.01992742344737053, 0.04055674374103546, -0.01423761248588562, -0.03648146241903305, 0.006216333247721195, 0.0180662889033556, -0.007189443800598383, 0.01179646048694849, 0.030708810314536095, -0.02637467160820961, -0.015184499323368073, -0.016315883025527, 0.012849381193518639, 0.0114329494535923, -0.043710365891456604, 0.00958474725484848, 0.028938647359609604, -0.017738070338964462, -0.02260376513004303, -0.007160693407058716, 0.0011488664895296097, -0.029629947617650032, 0.00856851041316986, -0.047387681901454926, -0.005334502551704645, -0.003530628979206085, 0.005172496661543846, -0.011895328760147095, 0.027041036635637283, -0.042800307273864746, -0.02307693287730217, 0.2922114133834839, -0.0815512090921402, -0.018208034336566925, -0.003134367987513542, -0.04876478761434555, -0.020022990182042122, -8.146697655320168e-05, -0.03691907227039337, -0.016353275626897812, -0.0169824305921793, 0.03930564597249031, -0.03762708604335785, -0.0023502856492996216, -0.0032166745513677597, 0.025391224771738052, -0.05054163932800293, 0.04242447763681412, -0.019938074052333832, -0.02094847336411476, -0.030537821352481842, 0.03930921480059624, -0.012168558314442635, 0.006124707870185375, 0.01723811961710453, -0.03378961980342865, -0.013717308640480042, -0.0186156053096056, 0.015178825706243515, 0.007006831467151642, 0.023510964587330818, -0.005784302018582821, -0.013223439455032349, 0.006781172472983599, 0.008311702869832516, 0.011283745057880878, 0.009662031196057796, 0.009553728625178337, -0.01422668993473053, -0.012067070230841637, 0.003205391811206937, 0.00611315481364727, 0.011462065391242504, -0.021467261016368866, -0.02914496138691902, 0.0073340581730008125, 0.03616712614893913, 0.007990819402039051, -0.004190695472061634, -0.0028884634375572205, -0.024930963292717934, -0.036520928144454956, -0.008705412968993187, -0.01652458868920803, 0.0181503277271986, -0.0030153808183968067, -0.033690713346004486, 0.010516118258237839, 0.0024893702939152718, -0.021800804883241653, -0.010024437680840492, 0.038405708968639374, -0.04068627581000328, 0.031976617872714996, -0.0008884090930223465, 0.01210949756205082, -0.048996083438396454, 0.01144448108971119, -0.02303648367524147, 0.0140475919470191, 0.008811251260340214, 0.0002671073889359832, 0.02179444208741188, -0.020560216158628464, 0.016859011724591255, -0.021817263215780258, -0.024021700024604797, 0.019410790875554085, -0.022419888526201248, 0.030550241470336914, 0.029671717435121536, 0.02516971342265606, -0.03556389361619949, 0.0007009757682681084, -0.04786048084497452, 0.05690348520874977, 0.05111727863550186, 0.027283091098070145, 0.010169770568609238, 0.001884971046820283, 0.009945258498191833, -0.04636596143245697, -0.007946089841425419, -0.03545096516609192, -0.0008195582777261734, -0.008734396658837795, 0.011053921654820442, -0.004396212287247181, 0.032805658876895905, 0.0065949843265116215, 0.03277174383401871, 0.04412006586790085, 0.008717432618141174, 0.003331385552883148, -0.006705445237457752, -0.030295081436634064, -0.005048890598118305, -0.05189190059900284, 0.029865246266126633, 0.03368478640913963, 0.02626168355345726, 0.021511174738407135, 0.008786715567111969, -0.019684910774230957, 0.009969081729650497, -0.00913893524557352, -0.0036051059141755104, 0.05550234019756317, 0.001999874133616686, 0.028858836740255356, -0.0005221017636358738, 0.031931061297655106, 0.013096846640110016, -0.01917969435453415, -0.013886852189898491, -0.019344618543982506, -0.024033773690462112, 0.03965386003255844, 0.005359182134270668, 0.004956776741892099, 0.005607923958450556, 0.02962532266974449, 0.01367527898401022, -0.02233942411839962, 0.00886028166860342, -0.04270618408918381, 0.009206688031554222, 0.03861571103334427, -0.021036896854639053, 0.000655218493193388, 0.02929498627781868, 0.004224428441375494, 0.01479841023683548, -0.027801677584648132, 0.03797014057636261, 0.026995118707418442, 0.0022030267864465714, -0.0005710658151656389, -0.007383635267615318, 0.006620468571782112, 0.042698413133621216, 0.010295981541275978, -0.016193948686122894, 0.030361486598849297, 0.020003587007522583, -0.006932609248906374, -0.02135547064244747, -0.01792866364121437, -0.02447086200118065, -0.008116025477647781, -0.009278255514800549, -0.010635808110237122, -0.016124403104186058, -0.006612589117139578, -0.053012434393167496, 0.03904693201184273, 0.013574761338531971, -0.0027339505031704903, -0.01450817845761776, 0.03197195380926132, 0.017061863094568253, -0.010036153718829155, 0.009459446184337139, -0.0829908698797226, 0.024377591907978058, 0.012884601019322872, 0.03321971744298935, 0.01886376366019249, -0.015634600073099136, 0.04614269733428955, 0.2919996976852417, 0.009469079785048962, -0.014254591427743435, 0.01565331034362316, 0.03139834851026535, 0.00592656247317791, -0.010177841410040855, -0.043441951274871826, 0.07190093398094177, 0.059497348964214325, -0.03235563635826111, 0.008064787834882736, 0.032431818544864655, 0.021869022399187088, 0.0013902848586440086, 0.016451794654130936, 0.06074747070670128, -0.057360127568244934, -0.030600041151046753, -0.0021230292040854692, 0.028154220432043076, -0.0016974946483969688, 0.024432724341750145, 0.014214182272553444, -0.003975593484938145, 0.01442634966224432, -0.0029586078599095345, -0.022249916568398476, 0.02385929599404335, -0.02548283338546753, 0.0036870045587420464, -0.046576790511608124, 0.027280792593955994, 0.025156738236546516, 0.004497653804719448, 0.001345345051959157, -0.011273699812591076, 0.010670335963368416, 0.0030275722965598106, -0.0055369483307003975, -0.005465972237288952, 0.04423106461763382, -0.0014078030362725258, 0.033691614866256714, 0.042444512248039246, -0.03693892061710358, 0.002869304968044162, 0.022915229201316833, 0.09733153134584427, -0.008988538756966591, -0.06138370931148529, 0.033794112503528595, 0.0018347571603953838, -0.006206342484802008, -0.011593764647841454, -0.014164542779326439, -0.03270746022462845, 0.004163259640336037, -0.003168037161231041, 0.021816842257976532, 0.005930440500378609, -9.648781269788742e-05, -0.008011827245354652, 0.008518774062395096, 0.06940793991088867, -0.025006091222167015, 0.016221141442656517, 0.00470730708912015, -0.009575237520039082, 0.0031901253387331963, -0.018112264573574066, -0.026066608726978302, 0.001882205018773675, -0.0315682515501976, -0.04202478379011154, -0.01980244182050228, 0.010623594745993614, -0.06243234872817993, -0.07937455177307129, -0.03599990904331207, 0.04526130110025406, -0.02148752100765705, 0.026574082672595978, -0.003659239038825035, -0.028996411710977554, -0.008783772587776184, -0.05604032427072525, -0.005191439762711525, 0.0006745746359229088, -0.026653070002794266, 0.010014424100518227, 0.03049790859222412, -0.01515920739620924, -0.002306159120053053, 0.0067950766533613205, -0.011913986876606941, 0.041310086846351624, 0.02678583562374115, 0.0969880074262619, -0.020701613277196884, 0.0020666783675551414, -1.0037794709205627e-05, -0.019954320043325424, 0.03547244146466255, 0.01271815225481987, 0.020599013194441795, 0.03328084945678711, -0.0210881344974041, 0.0651615560054779, -0.01758919283747673, 0.00702281016856432, -0.04134488105773926, 0.005597581155598164, 0.010412642732262611, 0.019656676799058914, -0.019939696416258812, 0.007690426893532276, 0.011124739423394203, -0.00985394511371851, -0.0010759523138403893, -0.029295526444911957, -0.0036158314906060696, 0.009130383841693401, -0.024249644950032234, -0.08744244277477264, 0.0335264652967453, 0.010240679606795311, -0.014030997641384602, 0.009312503039836884, 0.047508127987384796, -0.0003942204639315605, 0.012946432456374168, -0.006370369344949722, 0.0066274479031562805, 0.0009545451030135155, 0.003272013505920768, 0.011371640488505363, -0.02268175035715103, -0.00839246716350317, 0.0015998780727386475, 0.04619094356894493, 0.04602750390768051, -0.015256671234965324, -0.04588984698057175, 0.021517176181077957, -0.018187319859862328, 0.016284650191664696, 0.01406256202608347, 0.02024085260927677, -0.014234748668968678, 0.005920619238168001, 0.013228747993707657, 0.058875955641269684, 0.031920142471790314, 0.011511753313243389, -0.006938629783689976, -0.035158421844244, -0.008833498694002628, 0.0218666885048151, -0.009825989603996277, 0.015423035249114037, 0.021581310778856277, 0.023913662880659103, -0.016321580857038498, 0.0013118274509906769, -0.029702164232730865, 0.01591355912387371, -0.014388317242264748, 0.008649822324514389, -0.011589765548706055, 0.05346878618001938, 0.010664742439985275, -0.02215089276432991, -0.012334365397691727, -0.05074036866426468, -0.047711875289678574, 0.021036770194768906, -0.002187461592257023, -0.03346763178706169, 0.0013520816573873162, 0.010322852991521358, 0.05269869789481163, 0.0010234927758574486, 0.014404590241611004, 0.0013783564791083336, 0.0326031856238842, -0.044317469000816345, 0.02211884967982769, -0.03677838295698166, -0.017724962905049324, -0.0021949284709990025, 0.009120544418692589, 0.03869892656803131, -2.891290932893753e-06, -0.03969372808933258, 0.02252025157213211, -0.014199797064065933, 0.02297845482826233, 0.00017628353089094162, -0.042550429701805115], '$similarity': 0.8279874}\n",
            "{'_id': 309, 'image_url': '/content/flickr/Images/69189650_6687da7280.jpg', 'caption': 'A dog running in the grass .', '$vector': [0.012842115014791489, -0.008829639293253422, -0.021037638187408447, 0.02094128355383873, 0.031960587948560715, 0.01798567734658718, 0.02793673798441887, -0.030060134828090668, -0.02888270653784275, 0.020261481404304504, 0.015657247975468636, -0.012279907241463661, -0.01953367330133915, 0.013383735902607441, 0.05187325179576874, 0.0026207203045487404, 0.025298193097114563, 0.009225046262145042, 0.009674904868006706, -0.02561335451900959, -0.00036690011620521545, -0.0072347125969827175, 0.03765788674354553, -0.03497638180851936, -0.009126675315201283, 0.0019799042493104935, 0.016877323389053345, 0.02554974891245365, -0.0063962554559111595, -0.030733361840248108, 0.01787080243229866, 0.02751421183347702, 0.009319169446825981, -0.04841899871826172, 0.029289323836565018, 0.009137111715972424, 0.010598955675959587, 0.0017132190987467766, -0.026023631915450096, 0.07859039306640625, -0.03983859717845917, 0.008950249291956425, 0.007454255595803261, -0.031168613582849503, 0.01697521097958088, -0.01957201585173607, 0.021879633888602257, -0.004531722515821457, 0.0011881694663316011, 0.022489648312330246, -0.008062876760959625, 0.00546002434566617, -0.001605877187103033, 0.020815972238779068, 0.021306872367858887, -0.008652684278786182, 0.06534838676452637, -0.0006683855317533016, -0.012882600538432598, 0.002773446496576071, 0.06321264803409576, 0.003133290447294712, -0.0002650078386068344, 0.051256969571113586, 0.018841834738850594, -0.035426363348960876, 0.016013041138648987, 0.017472784966230392, -0.025625966489315033, -0.009986896999180317, 0.012187816202640533, -0.010201201774179935, 0.026724813506007195, 0.03949294239282608, -0.030713841319084167, -0.002072847681120038, 0.012193923816084862, -0.009283995255827904, -0.0010710058268159628, -0.004710545297712088, 0.026412541046738625, -0.0012820740230381489, -0.018955262377858162, 0.020944278687238693, 0.025287257507443428, 0.008564039133489132, 0.006718779914081097, -0.036654166877269745, 0.06119196116924286, -0.016004018485546112, -0.022330468520522118, -0.03823120892047882, -0.3679281771183014, 0.02267901413142681, -0.047549523413181305, 0.030036326497793198, 0.008204955607652664, 0.02134440280497074, -0.08116354793310165, -0.03187711536884308, 0.03944266214966774, 0.01835719682276249, 0.02306540310382843, 0.006174797657877207, 0.008873350918293, -0.019406698644161224, 0.02064359188079834, 0.027708109468221664, -0.0007112780585885048, -0.0024839018005877733, 0.026236992329359055, -0.046711090952157974, -0.006489664316177368, -0.029889151453971863, 0.009346876293420792, 0.04645298421382904, -0.034936144948005676, -0.032594792544841766, -0.004654997028410435, -0.01689433678984642, -0.00038619013503193855, -0.04109181463718414, 0.0042645568028092384, -0.06720377504825592, 0.024821653962135315, -0.04244985803961754, -0.0033462918363511562, 0.012968881987035275, 0.008547264151275158, 0.021993445232510567, 0.04194730892777443, -0.02376767061650753, -0.018741298466920853, 0.2682708501815796, -0.04172608256340027, 0.006572515703737736, -0.006964746862649918, -0.0964653342962265, -0.018069494515657425, -0.03573733568191528, -0.04005418345332146, 0.002178860828280449, -0.028780441731214523, 0.024693235754966736, -0.048099368810653687, 0.013405480422079563, -0.001295431051403284, -0.010239575058221817, -0.0534568652510643, -0.011845875531435013, -0.0029179793782532215, 0.02355748601257801, 0.01218358427286148, 0.025313187390565872, -0.022243907675147057, 0.009556027129292488, 0.0037976366002112627, -0.02258339338004589, -0.009440809488296509, -0.03177192062139511, -0.02676236629486084, -0.008032436482608318, 0.005714050494134426, -0.01586238108575344, 0.0020640860311686993, -0.013622354716062546, 0.011061630211770535, 0.003765183500945568, -0.012495727278292179, 0.01943858526647091, -0.0043254755437374115, -0.010930713266134262, -0.008159578777849674, -0.01267162524163723, 0.03992170840501785, -0.00279261264950037, 0.004967959597706795, 0.005243458319455385, -0.009329698048532009, -0.006183484569191933, -0.04180170223116875, -0.0029900074005126953, -0.029705209657549858, -0.03138207644224167, -0.009502578526735306, -0.013164335861802101, 0.0123795410618186, 0.032196566462516785, -0.02751884050667286, 0.020525220781564713, 0.011611579917371273, -0.012727157212793827, 0.004369909875094891, 0.04470330476760864, -0.09770411998033524, 0.02449914626777172, -0.021597769111394882, 0.01944751851260662, -0.04472235590219498, -0.029189206659793854, -0.03125995397567749, -0.018699252977967262, 0.02858048304915428, 0.0018359562382102013, -0.00574396550655365, -0.026735644787549973, -0.009686809033155441, -0.01661880873143673, -0.002292449353262782, 0.013736383989453316, -0.021529337391257286, 0.04061882197856903, 0.020106613636016846, 0.02367376908659935, 0.0032304287888109684, -0.007965524680912495, -0.0008393507450819016, 0.028911571949720383, 0.09700824320316315, -0.005578444804996252, 0.030371535569429398, 0.0033579496666789055, -0.02230905182659626, -0.02976318821310997, -0.032528702169656754, -0.017328042536973953, 0.011867301538586617, -0.03916572034358978, 0.010194136761128902, -0.007793694734573364, 0.012538330629467964, 0.03178577125072479, 0.015052083879709244, 0.01488024927675724, 0.0180712528526783, -0.014864646829664707, -0.015111500397324562, -0.037855274975299835, -0.02195259928703308, -0.025209520012140274, -0.014892779290676117, 0.03666449710726738, 0.013940757140517235, -0.0009394101798534393, -0.008717675693333149, -0.030848147347569466, 0.021723788231611252, -0.06144729256629944, 0.006028995383530855, 0.014179514721035957, -0.02017337456345558, -0.002664542756974697, 0.0270477756857872, 0.01738102361559868, 0.016935965046286583, 0.0005574607057496905, -0.017862562090158463, 0.005913912318646908, 0.007013348396867514, 0.027854759246110916, 0.002126413630321622, 0.014308572746813297, -0.0019037560559809208, -0.0059858569875359535, -0.005104837007820606, 0.006333866156637669, 0.017027251422405243, -0.041336726397275925, -0.0024433108046650887, 0.03214992582798004, -0.03215240314602852, 0.033685021102428436, 0.0231180377304554, 0.01407257467508316, -0.0009128895471803844, -0.02904127910733223, 0.025603875517845154, 0.021405620500445366, 0.013236097991466522, -0.0036682477220892906, -0.03656132146716118, 0.003752855584025383, -0.03135620802640915, 0.013174647465348244, -0.0334758497774601, 0.021411247551441193, -0.002796888817101717, -0.02044486440718174, -0.012217015027999878, -0.014359667897224426, -0.019412312656641006, -0.029414789751172066, -0.002316323108971119, 0.021367233246564865, -0.009559527039527893, 0.005850037559866905, 0.022164033725857735, 0.03641331195831299, 0.01424015685915947, -0.026581866666674614, -0.003645670600235462, -0.031157903373241425, -0.016880875453352928, -0.02172732725739479, -0.008692795410752296, -0.05590367689728737, 0.019601693376898766, 0.025399934500455856, 0.014468332752585411, 0.002764197066426277, -0.0002803560346364975, 0.028716688975691795, 0.2679959237575531, 0.0010911263525485992, -0.007574399933218956, 0.005885269492864609, 0.00594976544380188, 0.022419454529881477, -0.006323237903416157, -0.05717235431075096, 0.044297948479652405, 0.051206741482019424, -0.009287581779062748, -0.007232300005853176, 0.034920256584882736, 0.026623666286468506, -0.02183893695473671, 0.01716560870409012, 0.020142117515206337, -0.0416874922811985, -0.04101800546050072, -0.014886855147778988, 0.017380258068442345, -0.01242799125611782, 0.028751768171787262, 0.002232577186077833, -0.007028351537883282, 0.022170141339302063, -0.0007662158459424973, -0.042377013713121414, -0.023623105138540268, -0.019885597750544548, 0.00886676274240017, -0.0187419094145298, 0.045252107083797455, 0.021167391911149025, -0.002463608980178833, 0.017135048285126686, -0.009155628271400928, 0.0014210715889930725, -0.026028387248516083, -0.0018631389830261469, 0.011850647628307343, 0.06374873965978622, -0.004880883265286684, 0.0306269358843565, 0.008634867146611214, -0.06403925269842148, -0.017872506752610207, 0.03473608195781708, 0.05261780694127083, 0.0017893658950924873, -0.016405537724494934, 0.028998173773288727, -0.020853983238339424, -0.014139225706458092, 0.01056276261806488, -0.005663168616592884, -0.014847571030259132, -0.019530123099684715, -0.009171955287456512, 0.0022002318874001503, -0.008383923210203648, 0.019009079784154892, 0.0002914050128310919, 0.006145576946437359, 0.08325053751468658, 0.013708926737308502, -0.010736899450421333, 0.03404049202799797, -0.0035154856741428375, -0.008921120315790176, 0.0036767241545021534, -0.035519376397132874, 0.02093951404094696, -0.03292869031429291, -0.023844696581363678, 0.01212431862950325, 0.007364044897258282, -0.05702732503414154, -0.07982045412063599, -0.046375613659620285, 0.0294848270714283, -0.024981465190649033, 0.03661529719829559, -0.010322417132556438, -0.01925816386938095, 0.007333753630518913, -0.05399419739842415, 0.009082699194550514, -0.0004835282452404499, -0.018185852095484734, -0.026089265942573547, 0.032582446932792664, 0.002581037115305662, -0.007403777912259102, -0.009474294260144234, -0.01240826677531004, 0.02641018107533455, 0.009003003127872944, 0.06302410364151001, -0.015226342715322971, -0.01972885988652706, 0.0019571715965867043, 0.00657506100833416, 0.004332646261900663, 0.0017488221637904644, 0.008886318653821945, 0.03359957039356232, -0.030764512717723846, 0.04274376481771469, -0.01603546552360058, 0.02774665877223015, -0.08601628988981247, 0.016364742070436478, 0.0013093091547489166, -0.018523667007684708, -0.037761714309453964, 0.0335448756814003, 0.010055364109575748, 0.01413058117032051, -0.028252949938178062, -0.015357451513409615, -0.02392907813191414, 0.01622632145881653, -0.008634057827293873, -0.08594034612178802, 0.004055904224514961, 0.014038868248462677, -0.014482598751783371, -0.004520982503890991, 0.03202327340841293, -0.0009809316834434867, -0.0097167007625103, 0.0008227331563830376, -0.0006703566759824753, -0.029856406152248383, 0.020655546337366104, 0.00903342291712761, -0.011131064966320992, -0.020256828516721725, -0.01211871113628149, 0.04630952328443527, -0.0026557380333542824, 0.007367910351604223, -0.04649027809500694, 0.01861448585987091, 0.0010342971654608846, 0.059189729392528534, 0.04834803566336632, 0.02175179496407509, 0.012083420529961586, 0.011468896642327309, 0.03033619001507759, 0.061526186764240265, 0.0300711989402771, -0.051519010215997696, 0.004309442359954119, -0.08226977288722992, -0.00578573253005743, 0.03956587612628937, -0.018517546355724335, -0.00540429400280118, -0.0017479397356510162, 0.02286689728498459, -0.01053130067884922, -0.01891026459634304, -0.028150275349617004, -0.014284960925579071, -0.010774762369692326, 0.009463846683502197, -0.00975062046200037, 0.02026463858783245, -0.0035866606049239635, -0.005002409685403109, 0.01657232455909252, -0.05031654238700867, -0.032003436237573624, 0.012632181867957115, -0.014355088584125042, -0.06300908327102661, -0.007943659089505672, 0.04044365882873535, 0.05827820673584938, -0.004694123286753893, 0.001083154696971178, -0.01649419590830803, 0.06050535663962364, -0.05540958791971207, 0.01975822076201439, -0.03530597686767578, -0.011372389271855354, 0.005499877035617828, 0.014314769767224789, 0.02418208308517933, 0.03387567400932312, -0.03259429335594177, 0.017237234860658646, -0.011574199423193932, 0.030275627970695496, 0.025091033428907394, -0.008448904380202293], '$similarity': 0.825707}\n"
          ]
        }
      ]
    },
    {
      "cell_type": "markdown",
      "source": [
        "## **Image Query Search**\n"
      ],
      "metadata": {
        "id": "M3ADUeqd5Fel"
      }
    },
    {
      "cell_type": "code",
      "source": [
        "#image query search\n",
        "inp_img = f'{os.getcwd()}/flickr/Images/55135290_9bed5c4ca3.jpg'\n",
        "print(inp_img)\n",
        "results = col.vector_find(embed_image(inp_img), limit=3)\n",
        "for r in results:\n",
        "    print(r)"
      ],
      "metadata": {
        "colab": {
          "base_uri": "https://localhost:8080/"
        },
        "id": "4liIwzL7hKIK",
        "outputId": "231e6f72-0970-4354-c713-8b143c200943"
      },
      "execution_count": 42,
      "outputs": [
        {
          "output_type": "stream",
          "name": "stdout",
          "text": [
            "/content/flickr/Images/55135290_9bed5c4ca3.jpg\n",
            "{'_id': 240, 'image_url': '/content/flickr/Images/55135290_9bed5c4ca3.jpg', 'caption': 'A boy wearing a red shirt and jeans is doing a flip on his bike .', '$vector': [0.0036213360726833344, 0.062300097197294235, 0.0039147078059613705, 0.003227377776056528, -0.05916713923215866, 0.002445925958454609, -0.03075273707509041, -0.011133064515888691, -0.009737602435052395, 0.017601672559976578, 0.03503865376114845, -0.04478851705789566, 0.01689887046813965, -0.0025414451956748962, -0.004949293099343777, 0.05815904960036278, 0.018911991268396378, 0.03127561882138252, -0.009063203819096088, -0.013836313039064407, -0.035924945026636124, -0.005659796297550201, 0.013921537436544895, 0.005184827372431755, -0.028421062976121902, 0.021491404622793198, -0.042231470346450806, -0.01567525416612625, 0.018319757655262947, -0.004222124814987183, -0.00018711481243371964, 0.010240093804895878, 0.013140898197889328, -0.011014388874173164, -0.0019277725368738174, 0.02072122134268284, 0.03102112002670765, -0.011999228969216347, 0.023063896223902702, 0.042106300592422485, -0.001826954772695899, -0.02271301858127117, -0.05662592872977257, 0.01948622241616249, -0.01089079026132822, -0.022493690252304077, 0.047880299389362335, -0.008718034252524376, -0.04714192450046539, 0.009460348635911942, -0.018261896446347237, 0.0034329378977417946, 0.017804190516471863, 0.020209668204188347, 0.0032177490647882223, -0.01408867072314024, 0.016333995386958122, 0.007132554426789284, -0.00836256705224514, -0.011643742211163044, 0.044457096606492996, -0.0011452771723270416, 0.0022867601364851, 0.013862133026123047, 0.021281952038407326, -0.020584553480148315, -0.010473622009158134, 0.14299485087394714, -0.025554951280355453, -0.02369580790400505, 0.0032793283462524414, -0.02635038271546364, 0.009874070063233376, 0.03615918010473251, 0.010797999799251556, 0.02322738990187645, 0.009233174845576286, 0.031348757445812225, -0.02951536327600479, -0.0019123507663607597, -0.04020711034536362, 0.00452339556068182, 0.01724344864487648, 0.04749400541186333, -0.021285567432641983, 0.05336136370897293, -0.014801067300140858, -0.021639781072735786, 0.04277290403842926, 0.012668128125369549, -0.006073417142033577, -0.007934072986245155, -0.35749733448028564, -0.0014821523800492287, 0.05041259154677391, -0.014515373855829239, 0.003556591458618641, 0.003209766000509262, 0.013117281720042229, -0.10118474066257477, 0.049154944717884064, 0.0016254903748631477, -0.003237011842429638, -0.0026444452814757824, -0.012445451691746712, 0.01996750384569168, -0.025575749576091766, 0.01839291863143444, -0.01197864767163992, -0.011606428772211075, 0.0047353534027934074, 0.0030866656452417374, 0.006332442630082369, 0.017935220152139664, -0.015983588993549347, 0.013175450265407562, 0.00450604222714901, 0.01921754889190197, 0.007857134565711021, -0.002021812368184328, 0.0025265603326261044, -0.006233455613255501, -0.01318912673741579, 0.014026254415512085, 0.015765216201543808, -0.013137267902493477, 0.022509831935167313, -0.026287205517292023, -0.005956210661679506, 0.021818790584802628, 0.012162212282419205, -0.054026976227760315, 0.006414827890694141, 0.23816737532615662, -0.028143059462308884, 0.0015577098820358515, 0.037118665874004364, -0.002840196480974555, -0.007052985019981861, -0.02001672424376011, 0.0220576710999012, -0.004329381510615349, -0.036061108112335205, 0.030022332444787025, -0.0208431463688612, -0.04427850991487503, 0.028428951278328896, 0.006996634416282177, -0.041232384741306305, -0.02727331593632698, -0.008738094940781593, -0.0013031912967562675, 0.050166964530944824, -0.005283725447952747, -0.01747627556324005, -0.0199839249253273, 0.029198260977864265, 0.009415104985237122, 0.0033682838547974825, 0.006059790030121803, -0.008840739727020264, -0.04099733382463455, 0.01687045767903328, 0.0035767871886491776, -0.02057955414056778, 0.0013672076165676117, 0.02429092675447464, -0.002048068679869175, -0.020213812589645386, -0.010770776309072971, 0.04438479244709015, -0.0038332389667630196, 0.00402637105435133, -0.016916802152991295, -0.03920796513557434, -0.030516628175973892, 0.004907179623842239, -0.032653458416461945, 0.009129723533987999, 0.0020917579531669617, -0.02722545899450779, 0.02846388891339302, -0.030423708260059357, 0.003564434126019478, -0.022790856659412384, -0.0005251677939668298, 0.01011486817151308, -0.045103564858436584, -0.042847245931625366, -0.01251987274736166, 0.019435323774814606, 0.029151830822229385, 0.012113694101572037, 0.018484145402908325, -0.06737266480922699, -0.02814188040792942, -0.031776778399944305, 0.021312830969691277, 0.06817643344402313, 0.02187538892030716, 0.027148747816681862, 0.0107707055285573, -0.061768002808094025, 0.00397624634206295, -0.01345768105238676, -0.003820001147687435, 0.00443108007311821, -0.050132013857364655, -0.06060774624347687, -0.008850865066051483, -0.006934523116797209, -0.05429030582308769, -0.011671359650790691, 0.03328940272331238, 0.043055176734924316, -0.007309224922209978, 0.015532462857663631, -0.03146146237850189, -0.019634509459137917, -0.027728000655770302, 0.062232255935668945, 0.05142097920179367, -0.02727464586496353, -0.01063100341707468, -0.02672163024544716, -0.022260654717683792, -0.002648386172950268, -0.04374830797314644, -0.015035060234367847, -0.06531501561403275, -0.002730917651206255, -0.024573344737291336, -0.005967429373413324, -0.004605103749781847, 0.03748065233230591, -0.054249055683612823, -0.012526406906545162, 0.00551984179764986, 0.010066190734505653, -0.010082878172397614, -0.009218523278832436, 0.032218798995018005, -0.01574091613292694, -0.012152053415775299, -0.03419283777475357, -0.059128809720277786, -0.02122880145907402, 0.04037690907716751, -0.00921601802110672, 0.003684018738567829, -0.013320825062692165, -0.002507130615413189, 0.007266703527420759, 0.01441444456577301, -0.0194492619484663, -0.024658625945448875, 0.011535816825926304, 0.01906394399702549, -0.0046663107350468636, 0.024207761511206627, -0.04524838179349899, 0.029134191572666168, 0.007470066659152508, -0.040008507668972015, 0.015672175213694572, 0.02411656081676483, -0.01832997426390648, 0.01982251927256584, 0.006571551784873009, 0.0131155950948596, -0.007495454978197813, 0.04231731593608856, 0.03336723893880844, -0.016009792685508728, -0.005097548943012953, -0.017584506422281265, -0.00891970656812191, 0.02095773257315159, -0.025030964985489845, 0.025321051478385925, -0.026987582445144653, -0.009557342156767845, -0.020093204453587532, 0.03015204146504402, 0.007913529872894287, 0.015036158263683319, 0.09487529844045639, 0.034276071935892105, 0.006265420466661453, -0.011233510449528694, 0.008624965324997902, -0.0008569038473069668, 0.005397318862378597, 0.00707474397495389, 0.0018089180812239647, 0.03179460018873215, -0.0712645947933197, -0.03889802098274231, -0.0282070841640234, 0.032866500318050385, 0.044270340353250504, -0.028284700587391853, -0.00818934291601181, 0.017971400171518326, -0.027193769812583923, -0.0894697979092598, 0.02814488299190998, 0.029834622517228127, 0.04693198949098587, -0.041470468044281006, -0.004975730553269386, 0.07244646549224854, 0.23809435963630676, -0.0016235420480370522, 0.023184238001704216, 0.04610218107700348, 0.003742656670510769, -0.00328725203871727, -0.0005963221192359924, -0.023116493597626686, 0.001502150553278625, -0.021983126178383827, -0.009951699525117874, -0.03353492543101311, -0.02463405765593052, -0.03182785212993622, -0.024317678064107895, -0.015961598604917526, 0.029243104159832, -0.06953832507133484, -0.02082427777349949, -0.01700887829065323, 0.0026357509195804596, -0.02181711420416832, -0.007881773635745049, 0.038413166999816895, -0.0159304141998291, 0.007212785072624683, 0.05743345245718956, -0.0033961026929318905, -0.017567507922649384, -0.03727417811751366, -0.012666646391153336, -0.02565700188279152, 0.01602107100188732, -0.016441617161035538, 0.013562433421611786, 0.009825988672673702, 0.028603585436940193, 0.04177528992295265, 0.004622623790055513, -0.0024468079209327698, 0.013385433703660965, 0.056199874728918076, -0.029080498963594437, 0.021285828202962875, -0.03263375535607338, 0.02641003578901291, 0.007386806420981884, -0.009479237720370293, 0.07044145464897156, -0.010564290918409824, -0.019221367314457893, 0.0028055869042873383, 0.0386558398604393, -0.017368461936712265, 0.02002914808690548, -0.015166972763836384, -0.03614526242017746, 0.003215362783521414, -0.019997544586658478, -0.026978304609656334, 0.00011647678911685944, -0.005481166765093803, -0.0029838336631655693, 0.010360443033277988, 0.07583101838827133, -0.002039022743701935, 0.07761520892381668, -0.021076669916510582, 0.012447718530893326, 0.020105477422475815, -0.000870394054800272, -0.0383279025554657, -0.002317158505320549, 0.028537657111883163, 0.024756919592618942, -0.035260267555713654, 0.010101042687892914, -0.01865256391465664, -0.06907683610916138, -0.004524409770965576, -0.024314451962709427, 0.013250624760985374, -0.0031599560752511024, 0.007317516021430492, 0.04727703705430031, -0.018047401681542397, 0.0055706314742565155, -0.0414128303527832, 0.016166547313332558, -0.048879846930503845, 0.03905759006738663, -0.003483228385448456, -0.018208686262369156, 0.0048318905755877495, 0.02124781906604767, -0.013238494284451008, 0.019773313775658607, 0.002755090594291687, 0.0103470329195261, 0.04813947528600693, -0.005663946270942688, -0.003595934249460697, 0.011282384395599365, 0.010848293080925941, -0.03767608851194382, -0.07731900364160538, 0.03638984635472298, -0.03991151601076126, 0.027418136596679688, -0.019317626953125, 0.019690973684191704, -0.015216798521578312, 0.005653344094753265, -0.01259822491556406, -0.0203084833920002, 0.04690023884177208, 0.037469200789928436, -0.0030767195858061314, -0.014991064555943012, 0.01121465116739273, -0.06997798383235931, -0.046362247318029404, 0.0010346081107854843, 0.017987243831157684, -0.02870359644293785, 0.051982149481773376, -0.013635209761559963, 0.03265728801488876, -0.017858799546957016, 0.051322583109140396, 0.05798378586769104, -0.019584914669394493, -0.016483673825860023, 0.004079047590494156, -0.096600741147995, -0.03795015066862106, -0.011709099635481834, -0.030091576278209686, -0.010167398490011692, 0.01101815328001976, -0.008681975305080414, 0.031999651342630386, 0.042438019067049026, -0.012503107078373432, 0.03061339631676674, -0.018355337902903557, 0.01614106446504593, 0.005443252623081207, 0.008659678511321545, 0.019353652372956276, -0.03474251180887222, 0.014666704460978508, -0.006320945918560028, 0.014011270366609097, 0.04720693454146385, -0.028103390708565712, 0.001742641907185316, 0.0007812068797647953, -0.02375074103474617, 0.02877948060631752, 0.07737816870212555, -0.0012152958661317825, -0.006159421056509018, 0.0209969412535429, 0.014552386477589607, -0.0070604076609015465, 0.04504614323377609, 0.05518995597958565, -0.010306558571755886, -0.0542675256729126, 0.020288579165935516, -0.009069172665476799, -0.043609295040369034, 0.03658955171704292, 0.010431958362460136, 0.0032943354453891516, 0.006712139118462801, -0.05609508603811264, -0.015388861298561096, 0.03803854063153267, 0.011809861287474632, 0.05433541536331177, -0.020682085305452347, -0.0122212590649724, 0.04386013001203537, 0.008607203140854836, 0.0019129877910017967, -0.024057118222117424, -0.021520618349313736, 0.012468092143535614, 0.012950588017702103, 0.021943312138319016, 0.05148554965853691, -0.029789794236421585, -0.016498545184731483, -0.04081236943602562, -0.019696379080414772, -0.014952847734093666, 0.020761815831065178, 0.00254864152520895], '$similarity': 0.9097332}\n",
            "{'_id': 244, 'image_url': '/content/flickr/Images/55135290_9bed5c4ca3.jpg', 'caption': 'A person is show upside down on his bicycle over a large field .', '$vector': [0.006466404534876347, 0.05035196617245674, 0.017547152936458588, 0.02764800190925598, -0.03642063960433006, 0.0051152994856238365, -0.020500224083662033, -0.003536270698532462, -0.012483558617532253, 0.042904388159513474, 0.011547830887138844, -0.042998358607292175, 0.018631260842084885, -0.023178493604063988, 0.0038439419586211443, 0.05455491691827774, 0.024618376046419144, 0.05268833041191101, -0.026868239045143127, -0.03569377586245537, -0.052921149879693985, -0.03363409265875816, -0.0028714993968605995, -0.039391063153743744, -0.02021157741546631, 0.010712914168834686, -0.025066113099455833, -0.00863921083509922, -0.005835440941154957, 0.001772846095263958, -0.007908032275736332, 0.017702681943774223, -0.02212623506784439, -0.009037391282618046, 0.02542468160390854, 0.01080395933240652, 0.029547305777668953, 0.006512281019240618, 0.012896249070763588, 0.04153086617588997, 0.007516792044043541, -0.03507397323846817, -0.054081760346889496, 0.007037429139018059, 0.0010300828143954277, -0.03092118352651596, 0.02973094955086708, 0.004776396322995424, -0.035256847739219666, -0.0029636570252478123, 0.014567420817911625, 0.024540767073631287, 0.007418094202876091, 0.026804938912391663, 0.010370425879955292, -0.03018869087100029, 0.01700812205672264, -0.00018899375572800636, -0.006032963283360004, 0.02980295941233635, 0.041280269622802734, -0.013340393081307411, 0.030991531908512115, 0.0014399262145161629, 0.0038947598077356815, -0.0016764812171459198, 0.0074171703308820724, 0.10898305475711823, -0.011304148472845554, -0.02614181488752365, 0.0052527766674757, -0.04047830402851105, -0.009321479126811028, 0.049958180636167526, 0.01628928817808628, 0.021573852747678757, 0.006704436149448156, 0.032907795161008835, -0.031070295721292496, 0.008444493636488914, -0.014635249972343445, 0.0025466475635766983, 0.01376921497285366, 0.038033097982406616, -0.0021093718241900206, 0.07336170971393585, -0.036297474056482315, -0.032618314027786255, 0.00903237983584404, 0.024946829304099083, -0.009888947010040283, -0.003361905924975872, -0.34736013412475586, -0.03681863099336624, 0.043589867651462555, 0.015201733447611332, 0.010769808664917946, 0.012372820638120174, -0.014330842532217503, -0.11371314525604248, 0.05341693013906479, 0.039914242923259735, 0.018565405160188675, 0.0017362141516059637, -0.009250322356820107, -0.001706646871753037, -0.0431649275124073, -0.0048140352591872215, 0.008401189930737019, -0.033427875488996506, -0.013567262329161167, -0.020490257069468498, -0.011009210720658302, 0.024237442761659622, -0.004579159896820784, 0.0013613700866699219, -0.010886461474001408, 0.019740888848900795, 0.005505089182406664, -0.0057550822384655476, 0.009539100341498852, -0.029776448383927345, -0.010181602090597153, -0.016179809346795082, 0.008570392616093159, -0.02562045305967331, -0.018567129969596863, -0.029680799692869186, -0.007330300752073526, 0.03663016855716705, 0.041169531643390656, -0.048564329743385315, -0.0014302078634500504, 0.24106428027153015, 0.0003789667971432209, -0.0062953149899840355, 0.02659776620566845, -0.03238651528954506, -0.033176861703395844, -0.045415837317705154, 0.008560582995414734, 0.00984251406043768, -0.009860211983323097, 0.03002883307635784, -0.030298784375190735, -0.04268742352724075, 0.0325591079890728, -0.011743047274649143, -0.047194704413414, -0.02848224528133869, -0.019651956856250763, 0.013336412608623505, 0.049457285553216934, -0.002012324519455433, -0.006979101803153753, -0.02815740369260311, -0.001462835818529129, 0.014423850923776627, -0.014474604278802872, -0.009409257210791111, 0.0015285254921764135, -0.026369266211986542, -0.0063592903316020966, 0.007523249834775925, -0.0157067459076643, 0.04913958162069321, 0.015176724642515182, 0.020925957709550858, -0.033090271055698395, -0.014368644915521145, 0.05989895388484001, -0.02247253991663456, 0.008971326053142548, -0.018172111362218857, -0.045463502407073975, -0.010304868221282959, -0.02020871266722679, -0.020205561071634293, -0.0209185890853405, 0.00868268683552742, -0.04871048405766487, 0.030292708426713943, -0.035006411373615265, 0.009513525292277336, -0.046500496566295624, 0.02371467836201191, -0.0183951947838068, -0.024895556271076202, -0.03190603107213974, -0.0010015610605478287, 0.03223785012960434, 0.05075545608997345, 0.017319444566965103, 0.0058157299645245075, -0.08560876548290253, -0.05229930579662323, -0.019709818065166473, 0.030167696997523308, 0.060103341937065125, 0.026385148987174034, 0.02189508080482483, 0.0013653722126036882, -0.058466896414756775, 0.017863493412733078, -0.029114075005054474, -0.035201504826545715, 0.017431769520044327, -0.04557323455810547, -0.05969788879156113, 0.010530668310821056, -0.01940586417913437, -0.04987684637308121, -0.029899874702095985, 0.03965170681476593, 0.038825225085020065, 0.012036819010972977, 0.016259143128991127, -0.02025115117430687, -0.029250696301460266, -0.02725161612033844, 0.07172837853431702, 0.038681793957948685, -0.015219392254948616, -0.007751804776489735, -0.027944091707468033, -0.02204291895031929, -0.001028583268634975, -0.052594833076000214, -0.026745446026325226, -0.03635665774345398, -0.0015592866111546755, 0.0019066790118813515, 0.0019980445504188538, 0.0010771506931632757, 0.040547698736190796, -0.0543418824672699, -0.01302945613861084, -0.007212253287434578, 0.010980485007166862, -0.013118617236614227, 0.00875135138630867, 0.04062982648611069, -0.028835438191890717, -0.05950307846069336, -0.017405051738023758, -0.055905941873788834, -0.012172658927738667, 0.009435410611331463, -0.01716139167547226, 0.014397739432752132, -0.030952727422118187, 0.005065520294010639, -0.0025081620551645756, -0.010702154599130154, -0.04198213294148445, -0.015723321586847305, 0.006736779119819403, 0.02884041890501976, -0.01704254560172558, 0.01500357873737812, -0.015505228191614151, 0.03265918046236038, -0.009282702580094337, -0.04131853207945824, -0.0008463100530207157, 0.045892030000686646, -0.02785625495016575, -0.005832654424011707, 0.010813615284860134, 0.013276610523462296, -0.014634355902671814, 0.022467948496341705, 0.06306453049182892, -0.02429412677884102, -0.01883677951991558, -9.631738066673279e-05, 0.015352399088442326, -0.003364053089171648, -0.018994398415088654, 0.03667834401130676, 0.00797346793115139, -0.004940586630254984, -0.021496664732694626, 0.012875611893832684, -0.011414284817874432, 0.006631502415984869, 0.09125374257564545, 0.006273547653108835, 0.013155646622180939, -0.027738241478800774, 0.02806178852915764, -0.015463762916624546, 0.014034808613359928, 0.013120900839567184, 0.012318356893956661, 0.04200705513358116, -0.029107946902513504, -0.0321449376642704, -0.021509166806936264, 0.026218971237540245, 0.02940761297941208, -0.02664603665471077, -0.007599224336445332, 0.052143387496471405, -0.0285774115473032, -0.09575071930885315, 0.014730656519532204, 0.0443759448826313, 0.03035971149802208, -0.06224945932626724, 0.006801623851060867, 0.05794522166252136, 0.2409709393978119, -0.01354300044476986, 0.02368975430727005, 0.032215416431427, -0.016245143488049507, 0.024417970329523087, 0.002804100513458252, -0.06780325621366501, -0.024430012330412865, -0.019791454076766968, -0.008710287511348724, -0.03432173654437065, 0.010264059528708458, -0.029828393831849098, -0.026627160608768463, -0.040659014135599136, 0.0455319881439209, -0.05316198989748955, 0.0054030707105994225, 0.0013842261396348476, -0.0013993638567626476, -0.017429642379283905, -0.01646052487194538, 0.029627537354826927, -0.015398133546113968, 0.03544199839234352, 0.02013668417930603, -0.0048056296072900295, -0.015562978573143482, -0.01440744660794735, -0.015559625811874866, -0.026841415092349052, 0.04718863219022751, -0.003459162311628461, 0.0068356869742274284, 0.020981965586543083, 0.03659480810165405, 0.03612961620092392, 0.003426512237638235, -0.002693052403628826, 0.024697279557585716, 0.031886026263237, -0.02760789543390274, 0.009107270278036594, 0.023446008563041687, -0.002787267789244652, -0.01861170120537281, 0.009330552071332932, 0.05249160900712013, 0.020266734063625336, -0.011532917618751526, -0.037194862961769104, 0.025368064641952515, -0.027367277070879936, 0.027953971177339554, -0.014425062574446201, -0.011881493031978607, 0.011489707976579666, -0.011240203864872456, -0.01716160960495472, -0.013717448338866234, 0.00296906940639019, 0.0022271336056292057, 0.018154533579945564, 0.0692744255065918, 0.009546348825097084, 0.008246617391705513, -0.021740175783634186, 0.010333285667002201, 0.016962002962827682, 0.016565527766942978, -0.00581671018153429, 0.006709759123623371, 0.02281779609620571, 0.02084864303469658, -0.02495567873120308, -0.014645864255726337, 0.0007559210062026978, -0.04791790992021561, 0.008302677422761917, -0.010321480222046375, -0.007001069840043783, -0.00031457003206014633, 0.006604126654565334, 0.05136590451002121, -0.008516915142536163, 0.002834250684827566, -0.010075533762574196, 0.00881496723741293, -0.03175271302461624, 0.024745481088757515, 0.008288414217531681, -0.0017738447058945894, 0.0038902387022972107, 0.023849353194236755, -0.0070458389818668365, 0.04470599442720413, -0.013965729624032974, 0.0011976025998592377, 0.060594342648983, -0.015047816559672356, -0.002011145232245326, 0.01981096900999546, -0.015592461451888084, -0.02167518623173237, -0.06528360396623611, 0.053630635142326355, -0.04590994864702225, 0.008693842217326164, -0.014999144710600376, 0.004344575572758913, -0.05725551024079323, 0.004042103886604309, -0.008049415424466133, 0.009443184360861778, 0.021306529641151428, 0.033262938261032104, -0.008714756928384304, -0.015451154671609402, 0.006930733099579811, -0.056160684674978256, -0.04450436308979988, 0.003203419502824545, -0.010060420259833336, -0.04755803942680359, 0.07572895288467407, -0.02824774570763111, 0.03479655086994171, -0.01869705691933632, 0.05782247334718704, 0.05968693643808365, -0.03256552666425705, -0.013235646300017834, 0.010519074276089668, -0.10038444399833679, -0.015065770596265793, -0.011231817305088043, -0.029689881950616837, -0.020497728139162064, 0.011733047664165497, -0.01800425723195076, 0.014035416767001152, 0.046786196529865265, 0.0072268289513885975, 0.009161167778074741, -0.04747631400823593, -0.010281865485012531, 0.0051467446610331535, 0.00136564951390028, 0.005166186485439539, -0.03461245819926262, 0.015870345756411552, -0.03349386900663376, 0.009697034023702145, 0.012754755094647408, -0.02344653382897377, -0.0168449766933918, -0.0036800445523113012, -0.039220888167619705, -0.004761440679430962, 0.07672203332185745, 0.017328735440969467, 0.02057673968374729, 0.023920493200421333, 0.00843110866844654, -0.012743039056658745, 0.02033008262515068, 0.03767722472548485, 0.0016187061555683613, -0.05871542543172836, 0.028527211397886276, -0.013818159699440002, -0.027874842286109924, 0.04329294711351395, 0.0020636627450585365, -0.00564423855394125, -0.011488870717585087, -0.02918676659464836, -0.030474331229925156, 0.020188381895422935, 0.026481181383132935, 0.025126706808805466, -0.026066873222589493, -0.03352595120668411, 0.02111108973622322, 0.008198721334338188, -0.008910903707146645, -0.023372262716293335, -0.0320916622877121, 0.0026053234469145536, 0.000457054004073143, 0.012163114733994007, 0.04921533539891243, -0.005916298367083073, -0.006421987432986498, -0.05140501633286476, -0.0037505028303712606, -0.028825368732213974, 0.007664923556149006, -0.02743191458284855], '$similarity': 0.90956765}\n",
            "{'_id': 241, 'image_url': '/content/flickr/Images/55135290_9bed5c4ca3.jpg', 'caption': 'A person flipping a bicycle upside down .', '$vector': [0.008933584205806255, 0.043814778327941895, -0.0005303854122757912, 0.005582526326179504, -0.04426321014761925, 0.008408064022660255, -0.011708396486938, -0.018093522638082504, -0.023214425891637802, 0.018843989819288254, 0.013416266068816185, -0.045247361063957214, 0.04550491273403168, -0.020844103768467903, 0.004735269583761692, 0.05369030311703682, 0.001717887818813324, 0.02162640169262886, -0.01739944890141487, -0.04198038578033447, -0.03216401860117912, -0.03430364653468132, -0.01947426050901413, -0.024850310757756233, -0.014396663755178452, 0.01694047823548317, -0.01337314210832119, -0.00597810372710228, 0.008109218440949917, 0.009575977921485901, -0.014682410284876823, 0.03625001385807991, -0.028453147038817406, -0.019026760011911392, 0.032598406076431274, 0.004006299190223217, 0.029312467202544212, -0.002864242997020483, 0.023694049566984177, 0.04065136983990669, 0.010869747027754784, -0.022537510842084885, -0.055069416761398315, 0.004820359405130148, -0.0013908827677369118, -0.030119212344288826, 0.02380031906068325, -0.0034367195330560207, -0.025643574073910713, -0.011231079697608948, 0.00508923688903451, 0.026561371982097626, 0.0009427750483155251, 0.029096491634845734, 0.005666384473443031, -0.026260975748300552, 0.0014513302594423294, -0.0029724184423685074, 0.014552298001945019, -0.0007943573873490095, 0.03222287818789482, -0.0278762299567461, 0.01368398405611515, -0.004066326189786196, 0.013114419765770435, -0.016514109447598457, -0.004569631069898605, 0.1069488674402237, -0.02683551236987114, -0.028105057775974274, -0.0025582003872841597, -0.02820204198360443, -0.01201578788459301, 0.03449635207653046, -0.00037539354525506496, 0.02794727310538292, 0.010592320933938026, 0.038305215537548065, -0.034532345831394196, 0.005949421785771847, -0.010750568471848965, 0.012546921148896217, 0.012620090506970882, 0.03771262615919113, -0.021403735503554344, 0.06341475248336792, -0.008152616210281849, -0.012260112911462784, 0.007330627180635929, 0.015113397501409054, 0.0008319923654198647, -0.012986470945179462, -0.3574292063713074, 0.002155892550945282, 0.032453522086143494, -0.0200367234647274, 0.0037041381001472473, -0.0019333120435476303, -0.019950971007347107, -0.09543502330780029, 0.06247392296791077, 0.024814732372760773, -0.008262088522315025, 0.015710918232798576, 0.0013353349640965462, 0.0018106286879628897, -0.026360537856817245, -0.012648731470108032, 0.0003887927159667015, -0.02367500774562359, -0.005172601900994778, -0.010797739960253239, -0.0218985453248024, 0.00543805118650198, 0.015137617476284504, -0.014395607635378838, -0.005642673000693321, 0.009878948330879211, 0.00805344432592392, -0.009539442136883736, 0.0013120081275701523, -0.034835077822208405, -0.01573575660586357, 0.004019732121378183, 0.014417998492717743, -0.03246854618191719, -0.01344118919223547, -0.012073606252670288, -0.020231910049915314, 0.022593453526496887, 0.012177063152194023, -0.051733989268541336, 0.0053670406341552734, 0.2846124470233917, -0.007483571767807007, -0.00736597552895546, 0.04324264079332352, -0.028108634054660797, -0.012086414732038975, -0.013706269674003124, 0.007325886748731136, -0.004870484583079815, -0.006495309993624687, 0.012243689969182014, -0.042004119604825974, -0.04290355369448662, 0.019733507186174393, 0.0033795908093452454, -0.038036003708839417, -0.01860801689326763, -0.017781566828489304, -0.009130783379077911, 0.04424536973237991, -0.00899939052760601, -0.009518940933048725, -0.040223099291324615, 0.010211785323917866, -0.020851364359259605, -0.010779989883303642, 0.000453415559604764, -0.0075156777165830135, -0.03811010345816612, 0.020401742309331894, 0.013334918767213821, -0.020058462396264076, 0.011902338825166225, 0.01123671792447567, 0.010579686611890793, -0.015452669933438301, -0.0026765847578644753, 0.056017421185970306, 0.003468818496912718, -0.0018188413232564926, -0.022298168390989304, -0.05008380115032196, -0.015370150096714497, -0.01588619500398636, -0.009869959205389023, -0.000915084034204483, 0.012207185849547386, -0.008189642801880836, 0.028417162597179413, -0.034316688776016235, 0.019687628373503685, -0.03155343607068062, 0.00815113540738821, -0.005841117352247238, -0.02486606501042843, -0.030799664556980133, -0.020254716277122498, 0.019550003111362457, 0.030662372708320618, -0.00021214503794908524, 0.02462584152817726, -0.058183759450912476, -0.03332281485199928, -0.023199429735541344, 0.035748060792684555, 0.05436382815241814, 0.03920935094356537, 0.02394617535173893, -0.01671692170202732, -0.04778910055756569, 0.020473424345254898, -0.02862047217786312, -0.013748700730502605, 0.017744630575180054, -0.048372916877269745, -0.056816063821315765, -0.0012659663334488869, 0.02378292754292488, -0.03943103179335594, -0.017745155841112137, 0.033532701432704926, 0.03844783827662468, 0.0021573416888713837, -0.005726555362343788, -0.023198291659355164, -0.035500869154930115, -0.03576630353927612, 0.07366475462913513, 0.04227787256240845, -0.01650400273501873, 0.004444052930921316, -0.004956122487783432, -0.03201758489012718, 0.005821752827614546, -0.043665628880262375, -0.015234681777656078, -0.038843847811222076, 0.00228715012781322, 0.0011991076171398163, 0.007913000881671906, -0.0033790539018809795, 0.02940094657242298, -0.04627188295125961, -0.020973563194274902, -0.0018093385733664036, 0.01527735497802496, -0.00879189744591713, 0.001965838950127363, 0.038639213889837265, -0.0329773984849453, -0.05107618868350983, -0.02862054854631424, -0.03488503023982048, -0.01892322674393654, 0.021875377744436264, -0.016213662922382355, 0.006137937307357788, -0.026647595688700676, -0.00028208689764142036, 0.005187440197914839, 0.010426918976008892, -0.03247839957475662, -0.023033473640680313, -0.002294047735631466, 0.022102955728769302, -0.0025258678942918777, 0.008363727480173111, -0.029581693932414055, 0.010668878443539143, -0.004587112460285425, -0.027220139279961586, -0.0016168388538062572, 0.030316529795527458, -0.029920389875769615, 0.011888573877513409, 0.007223851978778839, 0.005178868770599365, -0.01902247965335846, 0.000341036356985569, 0.06350705772638321, -0.046314537525177, -0.004134027287364006, -0.010562708601355553, 0.0020633582025766373, 0.013926040381193161, -0.016583846881985664, 0.04616215452551842, 0.020650457590818405, 0.010565330274403095, -0.032188381999731064, 0.005871488247066736, -0.009770038537681103, 0.009863317012786865, 0.0907328724861145, 0.01670709252357483, 0.006550860591232777, -0.01892765797674656, 0.02918441779911518, -0.016928285360336304, 0.002095055067911744, 0.007948076352477074, 0.021625779569149017, 0.06261679530143738, -0.04042840003967285, -0.03134039789438248, -0.042490869760513306, 0.021565169095993042, 0.03494923189282417, -0.0056529575958848, -0.015710605308413506, 0.02923090010881424, -0.031544316560029984, -0.07643397152423859, 0.008221659809350967, 0.02926255203783512, 0.01794007048010826, -0.06250365823507309, -0.007047424092888832, 0.05006887763738632, 0.28476426005363464, -0.022628959268331528, 0.02412448823451996, 0.028421513736248016, -0.025530146434903145, -0.00529312901198864, 0.013332091271877289, -0.043178241699934006, -0.006457543931901455, -0.010891249403357506, 0.0035864049568772316, -0.01957589201629162, -0.009619055315852165, -0.03034818358719349, -0.00299512455239892, -0.03963121771812439, 0.03093528002500534, -0.06928004324436188, 0.009164911694824696, -0.005223752465099096, -0.01561999786645174, -0.006261864677071571, -0.03435719385743141, 0.03357342630624771, -0.015265094116330147, 0.021474098786711693, 0.046869345009326935, -0.0024773841723799706, -0.026095077395439148, -0.01996942050755024, -0.005348308011889458, -0.02232753112912178, 0.02610805258154869, 0.007714092265814543, 0.003989875316619873, 0.015492556616663933, 0.009562787599861622, 0.029435746371746063, 0.01293816976249218, -0.01177067682147026, 0.00764362420886755, 0.03226424753665924, -0.015513654798269272, -0.004787769168615341, 0.02180996909737587, 0.028119530528783798, 0.0033713197335600853, 0.022623056545853615, 0.06667118519544601, -0.004176655784249306, -0.03186296299099922, -0.03752733767032623, 0.04325494542717934, -0.014542379416525364, 0.03188592195510864, -0.018589932471513748, -0.017634233459830284, -0.004959283396601677, -0.009270708076655865, -0.005541852209717035, -0.003640340641140938, -0.01052318699657917, 0.004674097988754511, 0.014716019853949547, 0.067338727414608, 0.012766299769282341, 0.02162615954875946, -0.0463443249464035, -0.00035445019602775574, 0.03003012016415596, 0.007520722225308418, -0.02542991004884243, 0.018258551135659218, 0.03931562602519989, 0.015236885286867619, -0.016593795269727707, 0.015262349508702755, -0.009893850423395634, -0.05793509632349014, 0.003719278611242771, -0.02316037379205227, 0.008835606276988983, 0.001116112805902958, 0.005192655138671398, 0.03988737612962723, -0.008123445324599743, 0.01876947097480297, -0.01794428378343582, -0.005398847162723541, -0.029892897233366966, 0.04475812613964081, 0.008718959987163544, -0.006768606603145599, 0.004310133866965771, 0.027422301471233368, -0.016696492210030556, 0.014123551547527313, 0.009403098374605179, -0.010816170834004879, 0.05496896803379059, -0.0025515505112707615, 0.007238390389829874, 0.02142421156167984, 0.014425273984670639, -0.03428852558135986, -0.0632786676287651, 0.03784249722957611, -0.042503371834754944, 0.0209425650537014, -0.02061016857624054, 0.02254537306725979, -0.02234227955341339, -0.004878614097833633, -0.018781550228595734, 0.0029197013936936855, 0.03310220688581467, 0.03365454450249672, 0.007184936664998531, -0.021038729697465897, 4.916451871395111e-05, -0.04972042143344879, -0.03027564287185669, 0.003038244554772973, 0.007770278956741095, -0.03742700815200806, 0.050387974828481674, -0.029196541756391525, 0.03848458081483841, -0.0038844142109155655, 0.07133136689662933, 0.057246554642915726, -0.02337971329689026, 8.169980719685555e-05, 0.013685688376426697, -0.08710919320583344, -0.029944848269224167, -0.005667335353791714, -0.022023987025022507, 0.008743219077587128, -0.003192844334989786, -0.021956749260425568, 0.040712520480155945, 0.041671574115753174, 0.02026839554309845, 0.004909916780889034, -0.031451381742954254, -0.00851987861096859, -0.007724057883024216, -0.004864770453423262, 0.019017057493329048, -0.054907023906707764, -0.007948792539536953, -0.022191407158970833, -0.006474615074694157, 0.045319996774196625, -0.019967621192336082, 0.002429161686450243, -0.0030986238270998, -0.04903092980384827, 0.0026982873678207397, 0.06465290486812592, 0.010849431157112122, 0.001337708905339241, 0.04221281781792641, -0.01847848854959011, -0.00029742298647761345, 0.011201453395187855, 0.04549179971218109, -0.0023780660703778267, -0.048386313021183014, 0.03614901006221771, -0.017045825719833374, -0.02160751447081566, 0.020538438111543655, 0.014926541596651077, -0.011581153608858585, -0.009056491777300835, -0.03472604975104332, -0.02123560570180416, 0.014955524355173111, 0.008195798844099045, 0.03426305204629898, -0.02691655606031418, -0.027464957907795906, 0.036498673260211945, 0.007713872008025646, 0.00513804703950882, -0.023384392261505127, -0.009776730090379715, 0.0018839600961655378, 0.004942138679325581, 0.01049122866243124, 0.04580247402191162, -0.009014192968606949, -0.008029410615563393, -0.0429055355489254, -0.01802213303744793, -0.023779407143592834, 0.025350840762257576, -0.01689140312373638], '$similarity': 0.9073316}\n"
          ]
        }
      ]
    },
    {
      "cell_type": "markdown",
      "source": [
        "## **Delete Collection**\n"
      ],
      "metadata": {
        "id": "FRsiYO8a5Hzw"
      }
    },
    {
      "cell_type": "code",
      "source": [
        "#delete collection\n",
        "db.delete_collection(collection_name=ASTRA_DB_COLLECTION)"
      ],
      "metadata": {
        "id": "W_7JAz7g1uxo"
      },
      "execution_count": null,
      "outputs": []
    }
  ]
}